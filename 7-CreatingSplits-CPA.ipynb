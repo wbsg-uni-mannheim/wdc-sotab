{
 "cells": [
  {
   "cell_type": "code",
   "execution_count": 1,
   "id": "85c4a4ef",
   "metadata": {},
   "outputs": [],
   "source": [
    "import os\n",
    "import pandas as pd\n",
    "import numpy as np\n",
    "from collections import Counter\n",
    "from skmultilearn.model_selection import iterative_train_test_split\n",
    "from skmultilearn.model_selection.measures import get_combination_wise_output_matrix"
   ]
  },
  {
   "cell_type": "markdown",
   "id": "1bf86599",
   "metadata": {},
   "source": [
    "## Read the created dataset and attach column values"
   ]
  },
  {
   "cell_type": "code",
   "execution_count": 14,
   "id": "75f02e3d",
   "metadata": {},
   "outputs": [
    {
     "data": {
      "text/html": [
       "<div>\n",
       "<style scoped>\n",
       "    .dataframe tbody tr th:only-of-type {\n",
       "        vertical-align: middle;\n",
       "    }\n",
       "\n",
       "    .dataframe tbody tr th {\n",
       "        vertical-align: top;\n",
       "    }\n",
       "\n",
       "    .dataframe thead th {\n",
       "        text-align: right;\n",
       "    }\n",
       "</style>\n",
       "<table border=\"1\" class=\"dataframe\">\n",
       "  <thead>\n",
       "    <tr style=\"text-align: right;\">\n",
       "      <th></th>\n",
       "      <th>class</th>\n",
       "      <th>column_name</th>\n",
       "      <th>file_name</th>\n",
       "      <th>relation_label</th>\n",
       "      <th>type_label</th>\n",
       "      <th>density</th>\n",
       "      <th>selection_type</th>\n",
       "    </tr>\n",
       "  </thead>\n",
       "  <tbody>\n",
       "    <tr>\n",
       "      <th>0</th>\n",
       "      <td>Product</td>\n",
       "      <td>offers:price</td>\n",
       "      <td>Product_corememoriesco.com_September2020.json.gz</td>\n",
       "      <td>price</td>\n",
       "      <td>price</td>\n",
       "      <td>100</td>\n",
       "      <td>Value Heterogeneity</td>\n",
       "    </tr>\n",
       "    <tr>\n",
       "      <th>1</th>\n",
       "      <td>Product</td>\n",
       "      <td>url</td>\n",
       "      <td>Product_corememoriesco.com_September2020.json.gz</td>\n",
       "      <td>url</td>\n",
       "      <td>URL</td>\n",
       "      <td>100</td>\n",
       "      <td>Random</td>\n",
       "    </tr>\n",
       "    <tr>\n",
       "      <th>2</th>\n",
       "      <td>Product</td>\n",
       "      <td>offers:pricecurrency</td>\n",
       "      <td>Product_corememoriesco.com_September2020.json.gz</td>\n",
       "      <td>priceCurrency</td>\n",
       "      <td>currency</td>\n",
       "      <td>100</td>\n",
       "      <td>Random</td>\n",
       "    </tr>\n",
       "    <tr>\n",
       "      <th>3</th>\n",
       "      <td>Product</td>\n",
       "      <td>offers:description</td>\n",
       "      <td>Product_corememoriesco.com_September2020.json.gz</td>\n",
       "      <td>description</td>\n",
       "      <td>Text</td>\n",
       "      <td>100</td>\n",
       "      <td>Random</td>\n",
       "    </tr>\n",
       "    <tr>\n",
       "      <th>4</th>\n",
       "      <td>Product</td>\n",
       "      <td>image</td>\n",
       "      <td>Product_corememoriesco.com_September2020.json.gz</td>\n",
       "      <td>image</td>\n",
       "      <td>URL</td>\n",
       "      <td>100</td>\n",
       "      <td>Random</td>\n",
       "    </tr>\n",
       "    <tr>\n",
       "      <th>...</th>\n",
       "      <td>...</td>\n",
       "      <td>...</td>\n",
       "      <td>...</td>\n",
       "      <td>...</td>\n",
       "      <td>...</td>\n",
       "      <td>...</td>\n",
       "      <td>...</td>\n",
       "    </tr>\n",
       "    <tr>\n",
       "      <th>163151</th>\n",
       "      <td>MusicAlbum</td>\n",
       "      <td>numtracks</td>\n",
       "      <td>MusicAlbum_elviscarden.com_September2020.json.gz</td>\n",
       "      <td>numTracks</td>\n",
       "      <td>Integer</td>\n",
       "      <td>100</td>\n",
       "      <td>Random 3</td>\n",
       "    </tr>\n",
       "    <tr>\n",
       "      <th>163152</th>\n",
       "      <td>MusicAlbum</td>\n",
       "      <td>track:name</td>\n",
       "      <td>MusicAlbum_elviscarden.com_September2020.json.gz</td>\n",
       "      <td>track</td>\n",
       "      <td>MusicRecording</td>\n",
       "      <td>100</td>\n",
       "      <td>Random 3</td>\n",
       "    </tr>\n",
       "    <tr>\n",
       "      <th>163153</th>\n",
       "      <td>CreativeWork</td>\n",
       "      <td>datecreated</td>\n",
       "      <td>CreativeWork_ywbc.org.uk_September2020.json.gz</td>\n",
       "      <td>dateCreated</td>\n",
       "      <td>DateTime</td>\n",
       "      <td>100</td>\n",
       "      <td>Inter Similarity</td>\n",
       "    </tr>\n",
       "    <tr>\n",
       "      <th>163154</th>\n",
       "      <td>CreativeWork</td>\n",
       "      <td>author:name</td>\n",
       "      <td>CreativeWork_ywbc.org.uk_September2020.json.gz</td>\n",
       "      <td>author</td>\n",
       "      <td>Person</td>\n",
       "      <td>100</td>\n",
       "      <td>Random</td>\n",
       "    </tr>\n",
       "    <tr>\n",
       "      <th>163155</th>\n",
       "      <td>SportsEvent</td>\n",
       "      <td>competitor:name</td>\n",
       "      <td>SportsEvent_blastertagassociation.com_Septembe...</td>\n",
       "      <td>competitor</td>\n",
       "      <td>SportsTeam</td>\n",
       "      <td>100</td>\n",
       "      <td>Random 3</td>\n",
       "    </tr>\n",
       "  </tbody>\n",
       "</table>\n",
       "<p>163156 rows × 7 columns</p>\n",
       "</div>"
      ],
      "text/plain": [
       "               class           column_name  \\\n",
       "0            Product          offers:price   \n",
       "1            Product                   url   \n",
       "2            Product  offers:pricecurrency   \n",
       "3            Product    offers:description   \n",
       "4            Product                 image   \n",
       "...              ...                   ...   \n",
       "163151    MusicAlbum             numtracks   \n",
       "163152    MusicAlbum            track:name   \n",
       "163153  CreativeWork           datecreated   \n",
       "163154  CreativeWork           author:name   \n",
       "163155   SportsEvent       competitor:name   \n",
       "\n",
       "                                                file_name relation_label  \\\n",
       "0        Product_corememoriesco.com_September2020.json.gz          price   \n",
       "1        Product_corememoriesco.com_September2020.json.gz            url   \n",
       "2        Product_corememoriesco.com_September2020.json.gz  priceCurrency   \n",
       "3        Product_corememoriesco.com_September2020.json.gz    description   \n",
       "4        Product_corememoriesco.com_September2020.json.gz          image   \n",
       "...                                                   ...            ...   \n",
       "163151   MusicAlbum_elviscarden.com_September2020.json.gz      numTracks   \n",
       "163152   MusicAlbum_elviscarden.com_September2020.json.gz          track   \n",
       "163153     CreativeWork_ywbc.org.uk_September2020.json.gz    dateCreated   \n",
       "163154     CreativeWork_ywbc.org.uk_September2020.json.gz         author   \n",
       "163155  SportsEvent_blastertagassociation.com_Septembe...     competitor   \n",
       "\n",
       "            type_label  density       selection_type  \n",
       "0                price      100  Value Heterogeneity  \n",
       "1                  URL      100               Random  \n",
       "2             currency      100               Random  \n",
       "3                 Text      100               Random  \n",
       "4                  URL      100               Random  \n",
       "...                ...      ...                  ...  \n",
       "163151         Integer      100             Random 3  \n",
       "163152  MusicRecording      100             Random 3  \n",
       "163153        DateTime      100     Inter Similarity  \n",
       "163154          Person      100               Random  \n",
       "163155      SportsTeam      100             Random 3  \n",
       "\n",
       "[163156 rows x 7 columns]"
      ]
     },
     "execution_count": 14,
     "metadata": {},
     "output_type": "execute_result"
    }
   ],
   "source": [
    "dataset = pd.read_csv('output-data/cpa-dataset/dataset.csv')\n",
    "dataset"
   ]
  },
  {
   "cell_type": "code",
   "execution_count": 15,
   "id": "be199ef4",
   "metadata": {},
   "outputs": [],
   "source": [
    "col_table = (dataset['column_name']+'|'+dataset['file_name']).tolist()"
   ]
  },
  {
   "cell_type": "code",
   "execution_count": 16,
   "id": "cbc7b91e",
   "metadata": {},
   "outputs": [
    {
     "data": {
      "text/plain": [
       "'offers:price|Product_corememoriesco.com_September2020.json.gz'"
      ]
     },
     "execution_count": 16,
     "metadata": {},
     "output_type": "execute_result"
    }
   ],
   "source": [
    "col_table[0]"
   ]
  },
  {
   "cell_type": "markdown",
   "id": "915d5aa5",
   "metadata": {},
   "source": [
    "### Add value columns"
   ]
  },
  {
   "cell_type": "code",
   "execution_count": 17,
   "id": "0167f893",
   "metadata": {},
   "outputs": [],
   "source": [
    "dir_ = 'output-data/expanded-tables/'"
   ]
  },
  {
   "cell_type": "code",
   "execution_count": 18,
   "id": "8cd529fb",
   "metadata": {},
   "outputs": [],
   "source": [
    "#Returns values of cleaned textual columns\n",
    "def get_values(col_table_name):\n",
    "    column_name, file_name = col_table_name.split('|')\n",
    "    \n",
    "    file = dir_ + file_name\n",
    "    \n",
    "    #Open table\n",
    "    df = pd.read_json(file, compression='gzip', lines=True)\n",
    "           \n",
    "    return df[column_name].tolist()"
   ]
  },
  {
   "cell_type": "code",
   "execution_count": 19,
   "id": "b5fd9db9",
   "metadata": {},
   "outputs": [],
   "source": [
    "pool = multiprocessing.Pool(processes=25)\n",
    "values = pool.map(get_values, col_table)\n",
    "pool.close()\n",
    "pool.join()"
   ]
  },
  {
   "cell_type": "code",
   "execution_count": 20,
   "id": "bed2a087",
   "metadata": {},
   "outputs": [
    {
     "data": {
      "text/html": [
       "<div>\n",
       "<style scoped>\n",
       "    .dataframe tbody tr th:only-of-type {\n",
       "        vertical-align: middle;\n",
       "    }\n",
       "\n",
       "    .dataframe tbody tr th {\n",
       "        vertical-align: top;\n",
       "    }\n",
       "\n",
       "    .dataframe thead th {\n",
       "        text-align: right;\n",
       "    }\n",
       "</style>\n",
       "<table border=\"1\" class=\"dataframe\">\n",
       "  <thead>\n",
       "    <tr style=\"text-align: right;\">\n",
       "      <th></th>\n",
       "      <th>class</th>\n",
       "      <th>column_name</th>\n",
       "      <th>file_name</th>\n",
       "      <th>relation_label</th>\n",
       "      <th>type_label</th>\n",
       "      <th>density</th>\n",
       "      <th>selection_type</th>\n",
       "      <th>values</th>\n",
       "    </tr>\n",
       "  </thead>\n",
       "  <tbody>\n",
       "    <tr>\n",
       "      <th>0</th>\n",
       "      <td>Product</td>\n",
       "      <td>offers:price</td>\n",
       "      <td>Product_corememoriesco.com_September2020.json.gz</td>\n",
       "      <td>price</td>\n",
       "      <td>price</td>\n",
       "      <td>100</td>\n",
       "      <td>Value Heterogeneity</td>\n",
       "      <td>[7.25, 24.95, 26.95, 24.95, 39.95, 24.95, 26.9...</td>\n",
       "    </tr>\n",
       "    <tr>\n",
       "      <th>1</th>\n",
       "      <td>Product</td>\n",
       "      <td>url</td>\n",
       "      <td>Product_corememoriesco.com_September2020.json.gz</td>\n",
       "      <td>url</td>\n",
       "      <td>URL</td>\n",
       "      <td>100</td>\n",
       "      <td>Random</td>\n",
       "      <td>[https://corememoriesco.com/products/be-prepar...</td>\n",
       "    </tr>\n",
       "    <tr>\n",
       "      <th>2</th>\n",
       "      <td>Product</td>\n",
       "      <td>offers:pricecurrency</td>\n",
       "      <td>Product_corememoriesco.com_September2020.json.gz</td>\n",
       "      <td>priceCurrency</td>\n",
       "      <td>currency</td>\n",
       "      <td>100</td>\n",
       "      <td>Random</td>\n",
       "      <td>[USD, USD, USD, USD, USD, USD, USD, USD, USD, ...</td>\n",
       "    </tr>\n",
       "    <tr>\n",
       "      <th>3</th>\n",
       "      <td>Product</td>\n",
       "      <td>offers:description</td>\n",
       "      <td>Product_corememoriesco.com_September2020.json.gz</td>\n",
       "      <td>description</td>\n",
       "      <td>Text</td>\n",
       "      <td>100</td>\n",
       "      <td>Random</td>\n",
       "      <td>[For the truly fearless!, This t-shirt is ever...</td>\n",
       "    </tr>\n",
       "    <tr>\n",
       "      <th>4</th>\n",
       "      <td>Product</td>\n",
       "      <td>image</td>\n",
       "      <td>Product_corememoriesco.com_September2020.json.gz</td>\n",
       "      <td>image</td>\n",
       "      <td>URL</td>\n",
       "      <td>100</td>\n",
       "      <td>Random</td>\n",
       "      <td>[//cdn.shopify.com/s/files/1/2781/6282/product...</td>\n",
       "    </tr>\n",
       "    <tr>\n",
       "      <th>...</th>\n",
       "      <td>...</td>\n",
       "      <td>...</td>\n",
       "      <td>...</td>\n",
       "      <td>...</td>\n",
       "      <td>...</td>\n",
       "      <td>...</td>\n",
       "      <td>...</td>\n",
       "      <td>...</td>\n",
       "    </tr>\n",
       "    <tr>\n",
       "      <th>163151</th>\n",
       "      <td>MusicAlbum</td>\n",
       "      <td>numtracks</td>\n",
       "      <td>MusicAlbum_elviscarden.com_September2020.json.gz</td>\n",
       "      <td>numTracks</td>\n",
       "      <td>Integer</td>\n",
       "      <td>100</td>\n",
       "      <td>Random 3</td>\n",
       "      <td>[1, 1, 1, 1, 1, 1, 1, 1, 1, 1, 1, 1, 1, 1, 1, ...</td>\n",
       "    </tr>\n",
       "    <tr>\n",
       "      <th>163152</th>\n",
       "      <td>MusicAlbum</td>\n",
       "      <td>track:name</td>\n",
       "      <td>MusicAlbum_elviscarden.com_September2020.json.gz</td>\n",
       "      <td>track</td>\n",
       "      <td>MusicRecording</td>\n",
       "      <td>100</td>\n",
       "      <td>Random 3</td>\n",
       "      <td>[IT\\\"S RAINING IN NASHVILLE, MR.RAIN MAN, Mr.R...</td>\n",
       "    </tr>\n",
       "    <tr>\n",
       "      <th>163153</th>\n",
       "      <td>CreativeWork</td>\n",
       "      <td>datecreated</td>\n",
       "      <td>CreativeWork_ywbc.org.uk_September2020.json.gz</td>\n",
       "      <td>dateCreated</td>\n",
       "      <td>DateTime</td>\n",
       "      <td>100</td>\n",
       "      <td>Inter Similarity</td>\n",
       "      <td>[2019-12-22T12:55:44+00:00, 2020-01-05T21:10:2...</td>\n",
       "    </tr>\n",
       "    <tr>\n",
       "      <th>163154</th>\n",
       "      <td>CreativeWork</td>\n",
       "      <td>author:name</td>\n",
       "      <td>CreativeWork_ywbc.org.uk_September2020.json.gz</td>\n",
       "      <td>author</td>\n",
       "      <td>Person</td>\n",
       "      <td>100</td>\n",
       "      <td>Random</td>\n",
       "      <td>[Rev Richard Alford, Phil Jackman, Phil Jackma...</td>\n",
       "    </tr>\n",
       "    <tr>\n",
       "      <th>163155</th>\n",
       "      <td>SportsEvent</td>\n",
       "      <td>competitor:name</td>\n",
       "      <td>SportsEvent_blastertagassociation.com_Septembe...</td>\n",
       "      <td>competitor</td>\n",
       "      <td>SportsTeam</td>\n",
       "      <td>100</td>\n",
       "      <td>Random 3</td>\n",
       "      <td>[[Fluffy Rainbow Unicorn Soldiers, Doomsday], ...</td>\n",
       "    </tr>\n",
       "  </tbody>\n",
       "</table>\n",
       "<p>163156 rows × 8 columns</p>\n",
       "</div>"
      ],
      "text/plain": [
       "               class           column_name  \\\n",
       "0            Product          offers:price   \n",
       "1            Product                   url   \n",
       "2            Product  offers:pricecurrency   \n",
       "3            Product    offers:description   \n",
       "4            Product                 image   \n",
       "...              ...                   ...   \n",
       "163151    MusicAlbum             numtracks   \n",
       "163152    MusicAlbum            track:name   \n",
       "163153  CreativeWork           datecreated   \n",
       "163154  CreativeWork           author:name   \n",
       "163155   SportsEvent       competitor:name   \n",
       "\n",
       "                                                file_name relation_label  \\\n",
       "0        Product_corememoriesco.com_September2020.json.gz          price   \n",
       "1        Product_corememoriesco.com_September2020.json.gz            url   \n",
       "2        Product_corememoriesco.com_September2020.json.gz  priceCurrency   \n",
       "3        Product_corememoriesco.com_September2020.json.gz    description   \n",
       "4        Product_corememoriesco.com_September2020.json.gz          image   \n",
       "...                                                   ...            ...   \n",
       "163151   MusicAlbum_elviscarden.com_September2020.json.gz      numTracks   \n",
       "163152   MusicAlbum_elviscarden.com_September2020.json.gz          track   \n",
       "163153     CreativeWork_ywbc.org.uk_September2020.json.gz    dateCreated   \n",
       "163154     CreativeWork_ywbc.org.uk_September2020.json.gz         author   \n",
       "163155  SportsEvent_blastertagassociation.com_Septembe...     competitor   \n",
       "\n",
       "            type_label  density       selection_type  \\\n",
       "0                price      100  Value Heterogeneity   \n",
       "1                  URL      100               Random   \n",
       "2             currency      100               Random   \n",
       "3                 Text      100               Random   \n",
       "4                  URL      100               Random   \n",
       "...                ...      ...                  ...   \n",
       "163151         Integer      100             Random 3   \n",
       "163152  MusicRecording      100             Random 3   \n",
       "163153        DateTime      100     Inter Similarity   \n",
       "163154          Person      100               Random   \n",
       "163155      SportsTeam      100             Random 3   \n",
       "\n",
       "                                                   values  \n",
       "0       [7.25, 24.95, 26.95, 24.95, 39.95, 24.95, 26.9...  \n",
       "1       [https://corememoriesco.com/products/be-prepar...  \n",
       "2       [USD, USD, USD, USD, USD, USD, USD, USD, USD, ...  \n",
       "3       [For the truly fearless!, This t-shirt is ever...  \n",
       "4       [//cdn.shopify.com/s/files/1/2781/6282/product...  \n",
       "...                                                   ...  \n",
       "163151  [1, 1, 1, 1, 1, 1, 1, 1, 1, 1, 1, 1, 1, 1, 1, ...  \n",
       "163152  [IT\\\"S RAINING IN NASHVILLE, MR.RAIN MAN, Mr.R...  \n",
       "163153  [2019-12-22T12:55:44+00:00, 2020-01-05T21:10:2...  \n",
       "163154  [Rev Richard Alford, Phil Jackman, Phil Jackma...  \n",
       "163155  [[Fluffy Rainbow Unicorn Soldiers, Doomsday], ...  \n",
       "\n",
       "[163156 rows x 8 columns]"
      ]
     },
     "execution_count": 20,
     "metadata": {},
     "output_type": "execute_result"
    }
   ],
   "source": [
    "dataset['values'] = values\n",
    "dataset"
   ]
  },
  {
   "cell_type": "markdown",
   "id": "bddc8ca3",
   "metadata": {},
   "source": [
    "## Create training, validation and test split"
   ]
  },
  {
   "cell_type": "code",
   "execution_count": 23,
   "id": "b16e531f",
   "metadata": {},
   "outputs": [
    {
     "data": {
      "text/html": [
       "<div>\n",
       "<style scoped>\n",
       "    .dataframe tbody tr th:only-of-type {\n",
       "        vertical-align: middle;\n",
       "    }\n",
       "\n",
       "    .dataframe tbody tr th {\n",
       "        vertical-align: top;\n",
       "    }\n",
       "\n",
       "    .dataframe thead th {\n",
       "        text-align: right;\n",
       "    }\n",
       "</style>\n",
       "<table border=\"1\" class=\"dataframe\">\n",
       "  <thead>\n",
       "    <tr style=\"text-align: right;\">\n",
       "      <th></th>\n",
       "      <th>file_name</th>\n",
       "      <th>relation_label</th>\n",
       "    </tr>\n",
       "  </thead>\n",
       "  <tbody>\n",
       "    <tr>\n",
       "      <th>0</th>\n",
       "      <td>Book_1000kitap.com_September2020.json.gz</td>\n",
       "      <td>numberOfPages,isbn,bookFormat,inLanguage,autho...</td>\n",
       "    </tr>\n",
       "    <tr>\n",
       "      <th>1</th>\n",
       "      <td>Book_100bestbooks.ru_September2020.json.gz</td>\n",
       "      <td>description,genre,author</td>\n",
       "    </tr>\n",
       "    <tr>\n",
       "      <th>2</th>\n",
       "      <td>Book_103.92.226.18_September2020.json.gz</td>\n",
       "      <td>bookFormat,description,author,isbn,datePublish...</td>\n",
       "    </tr>\n",
       "    <tr>\n",
       "      <th>3</th>\n",
       "      <td>Book_12baliv.com.ua_September2020.json.gz</td>\n",
       "      <td>worstRating,bestRating,about</td>\n",
       "    </tr>\n",
       "    <tr>\n",
       "      <th>4</th>\n",
       "      <td>Book_1815.ch_September2020.json.gz</td>\n",
       "      <td>priceCurrency,isbn,numberOfPages,price</td>\n",
       "    </tr>\n",
       "    <tr>\n",
       "      <th>...</th>\n",
       "      <td>...</td>\n",
       "      <td>...</td>\n",
       "    </tr>\n",
       "    <tr>\n",
       "      <th>43191</th>\n",
       "      <td>TVEpisode_yidio.com_September2020.json.gz</td>\n",
       "      <td>episodeNumber,description,partOfSeries,datePub...</td>\n",
       "    </tr>\n",
       "    <tr>\n",
       "      <th>43192</th>\n",
       "      <td>TVEpisode_yifytvseries.com_September2020.json.gz</td>\n",
       "      <td>datePublished,episodeNumber</td>\n",
       "    </tr>\n",
       "    <tr>\n",
       "      <th>43193</th>\n",
       "      <td>TVEpisode_yle.fi_September2020.json.gz</td>\n",
       "      <td>description,startDate,partOfSeries</td>\n",
       "    </tr>\n",
       "    <tr>\n",
       "      <th>43194</th>\n",
       "      <td>TVEpisode_zazangels.com_September2020.json.gz</td>\n",
       "      <td>duration,description,url,director,partOfSeries</td>\n",
       "    </tr>\n",
       "    <tr>\n",
       "      <th>43195</th>\n",
       "      <td>TVEpisode_zoids-col.net_September2020.json.gz</td>\n",
       "      <td>duration,description,url,partOfSeries,director</td>\n",
       "    </tr>\n",
       "  </tbody>\n",
       "</table>\n",
       "<p>43196 rows × 2 columns</p>\n",
       "</div>"
      ],
      "text/plain": [
       "                                              file_name  \\\n",
       "0              Book_1000kitap.com_September2020.json.gz   \n",
       "1            Book_100bestbooks.ru_September2020.json.gz   \n",
       "2              Book_103.92.226.18_September2020.json.gz   \n",
       "3             Book_12baliv.com.ua_September2020.json.gz   \n",
       "4                    Book_1815.ch_September2020.json.gz   \n",
       "...                                                 ...   \n",
       "43191         TVEpisode_yidio.com_September2020.json.gz   \n",
       "43192  TVEpisode_yifytvseries.com_September2020.json.gz   \n",
       "43193            TVEpisode_yle.fi_September2020.json.gz   \n",
       "43194     TVEpisode_zazangels.com_September2020.json.gz   \n",
       "43195     TVEpisode_zoids-col.net_September2020.json.gz   \n",
       "\n",
       "                                          relation_label  \n",
       "0      numberOfPages,isbn,bookFormat,inLanguage,autho...  \n",
       "1                               description,genre,author  \n",
       "2      bookFormat,description,author,isbn,datePublish...  \n",
       "3                           worstRating,bestRating,about  \n",
       "4                 priceCurrency,isbn,numberOfPages,price  \n",
       "...                                                  ...  \n",
       "43191  episodeNumber,description,partOfSeries,datePub...  \n",
       "43192                        datePublished,episodeNumber  \n",
       "43193                 description,startDate,partOfSeries  \n",
       "43194     duration,description,url,director,partOfSeries  \n",
       "43195     duration,description,url,partOfSeries,director  \n",
       "\n",
       "[43196 rows x 2 columns]"
      ]
     },
     "execution_count": 23,
     "metadata": {},
     "output_type": "execute_result"
    }
   ],
   "source": [
    "grouped_by_table = dataset.groupby(['file_name'])['relation_label'].apply(','.join).reset_index()\n",
    "grouped_by_table"
   ]
  },
  {
   "cell_type": "code",
   "execution_count": 24,
   "id": "f7ea1673",
   "metadata": {},
   "outputs": [],
   "source": [
    "X = grouped_by_table[[\"file_name\"]].values"
   ]
  },
  {
   "cell_type": "markdown",
   "id": "3302a60f",
   "metadata": {},
   "source": [
    "### One hot encoding of CPA labels"
   ]
  },
  {
   "cell_type": "code",
   "execution_count": 25,
   "id": "84a1667d",
   "metadata": {},
   "outputs": [],
   "source": [
    "all_labels = dataset['relation_label'].unique()\n",
    "y = np.zeros(shape=(len(grouped_by_table['file_name'].tolist(), len(all_labels))) #encoded labels"
   ]
  },
  {
   "cell_type": "code",
   "execution_count": 27,
   "id": "cf9597d9",
   "metadata": {},
   "outputs": [],
   "source": [
    "for index, row in grouped_by_table.iterrows():\n",
    "    table_labels = row['relation_label'].split(',')\n",
    "    count = 0\n",
    "    \n",
    "    for label in all_labels:\n",
    "        if label in table_labels:\n",
    "            y[index][count] = 1\n",
    "        else:\n",
    "            y[index][count] = 0\n",
    "        count += 1"
   ]
  },
  {
   "cell_type": "code",
   "execution_count": 28,
   "id": "769ae530",
   "metadata": {},
   "outputs": [
    {
     "data": {
      "text/plain": [
       "array([['Book_1000kitap.com_September2020.json.gz'],\n",
       "       ['Book_100bestbooks.ru_September2020.json.gz'],\n",
       "       ['Book_103.92.226.18_September2020.json.gz'],\n",
       "       ...,\n",
       "       ['TVEpisode_yle.fi_September2020.json.gz'],\n",
       "       ['TVEpisode_zazangels.com_September2020.json.gz'],\n",
       "       ['TVEpisode_zoids-col.net_September2020.json.gz']], dtype=object)"
      ]
     },
     "execution_count": 28,
     "metadata": {},
     "output_type": "execute_result"
    }
   ],
   "source": [
    "X"
   ]
  },
  {
   "cell_type": "code",
   "execution_count": 29,
   "id": "cbe693e1",
   "metadata": {},
   "outputs": [
    {
     "data": {
      "text/plain": [
       "array([[0., 0., 0., ..., 0., 0., 0.],\n",
       "       [0., 0., 0., ..., 0., 0., 0.],\n",
       "       [0., 0., 0., ..., 0., 0., 0.],\n",
       "       ...,\n",
       "       [0., 0., 0., ..., 0., 0., 0.],\n",
       "       [0., 0., 0., ..., 0., 0., 0.],\n",
       "       [0., 0., 0., ..., 0., 0., 0.]])"
      ]
     },
     "execution_count": 29,
     "metadata": {},
     "output_type": "execute_result"
    }
   ],
   "source": [
    "y"
   ]
  },
  {
   "cell_type": "code",
   "execution_count": 30,
   "id": "b754a4d9",
   "metadata": {
    "scrolled": false
   },
   "outputs": [
    {
     "name": "stdout",
     "output_type": "stream",
     "text": [
      "Training set length: 34441, Testing set length: 8755\n"
     ]
    }
   ],
   "source": [
    "X_train, y_train, X_test, y_test = iterative_train_test_split(X, y, test_size = 0.2)\n",
    "print('Training set length: '+str(len(X_train)) +', Testing set length: '+ str(len(X_test)))"
   ]
  },
  {
   "cell_type": "code",
   "execution_count": 31,
   "id": "3b7a6727",
   "metadata": {},
   "outputs": [
    {
     "data": {
      "text/html": [
       "<div>\n",
       "<style scoped>\n",
       "    .dataframe tbody tr th:only-of-type {\n",
       "        vertical-align: middle;\n",
       "    }\n",
       "\n",
       "    .dataframe tbody tr th {\n",
       "        vertical-align: top;\n",
       "    }\n",
       "\n",
       "    .dataframe thead th {\n",
       "        text-align: right;\n",
       "    }\n",
       "</style>\n",
       "<table border=\"1\" class=\"dataframe\">\n",
       "  <thead>\n",
       "    <tr style=\"text-align: right;\">\n",
       "      <th></th>\n",
       "      <th>(17,)</th>\n",
       "      <th>(125,)</th>\n",
       "      <th>(52,)</th>\n",
       "      <th>(130,)</th>\n",
       "      <th>(188,)</th>\n",
       "      <th>(14,)</th>\n",
       "      <th>(123,)</th>\n",
       "      <th>(158,)</th>\n",
       "      <th>(16,)</th>\n",
       "      <th>(70,)</th>\n",
       "      <th>...</th>\n",
       "      <th>(77,)</th>\n",
       "      <th>(174,)</th>\n",
       "      <th>(198,)</th>\n",
       "      <th>(112,)</th>\n",
       "      <th>(63,)</th>\n",
       "      <th>(55,)</th>\n",
       "      <th>(23,)</th>\n",
       "      <th>(149,)</th>\n",
       "      <th>(59,)</th>\n",
       "      <th>(94,)</th>\n",
       "    </tr>\n",
       "  </thead>\n",
       "  <tbody>\n",
       "    <tr>\n",
       "      <th>train</th>\n",
       "      <td>2437</td>\n",
       "      <td>6459</td>\n",
       "      <td>742</td>\n",
       "      <td>1234</td>\n",
       "      <td>447</td>\n",
       "      <td>207</td>\n",
       "      <td>687</td>\n",
       "      <td>551</td>\n",
       "      <td>3437</td>\n",
       "      <td>415</td>\n",
       "      <td>...</td>\n",
       "      <td>466</td>\n",
       "      <td>422</td>\n",
       "      <td>320</td>\n",
       "      <td>330</td>\n",
       "      <td>134</td>\n",
       "      <td>133</td>\n",
       "      <td>299</td>\n",
       "      <td>143</td>\n",
       "      <td>104</td>\n",
       "      <td>83</td>\n",
       "    </tr>\n",
       "    <tr>\n",
       "      <th>test</th>\n",
       "      <td>748</td>\n",
       "      <td>1795</td>\n",
       "      <td>207</td>\n",
       "      <td>345</td>\n",
       "      <td>117</td>\n",
       "      <td>77</td>\n",
       "      <td>236</td>\n",
       "      <td>160</td>\n",
       "      <td>936</td>\n",
       "      <td>108</td>\n",
       "      <td>...</td>\n",
       "      <td>139</td>\n",
       "      <td>39</td>\n",
       "      <td>22</td>\n",
       "      <td>22</td>\n",
       "      <td>33</td>\n",
       "      <td>33</td>\n",
       "      <td>75</td>\n",
       "      <td>46</td>\n",
       "      <td>23</td>\n",
       "      <td>21</td>\n",
       "    </tr>\n",
       "  </tbody>\n",
       "</table>\n",
       "<p>2 rows × 200 columns</p>\n",
       "</div>"
      ],
      "text/plain": [
       "       (17,)  (125,)  (52,)  (130,)  (188,)  (14,)  (123,)  (158,)  (16,)  \\\n",
       "train   2437    6459    742    1234     447    207     687     551   3437   \n",
       "test     748    1795    207     345     117     77     236     160    936   \n",
       "\n",
       "       (70,)  ...  (77,)  (174,)  (198,)  (112,)  (63,)  (55,)  (23,)  (149,)  \\\n",
       "train    415  ...    466     422     320     330    134    133    299     143   \n",
       "test     108  ...    139      39      22      22     33     33     75      46   \n",
       "\n",
       "       (59,)  (94,)  \n",
       "train    104     83  \n",
       "test      23     21  \n",
       "\n",
       "[2 rows x 200 columns]"
      ]
     },
     "execution_count": 31,
     "metadata": {},
     "output_type": "execute_result"
    }
   ],
   "source": [
    "#Relation Labels in each set\n",
    "pd.DataFrame({\n",
    "    'train': Counter(str(combination) for row in get_combination_wise_output_matrix(y_train, order=1) for combination in row),\n",
    "    'test' : Counter(str(combination) for row in get_combination_wise_output_matrix(y_test, order=1) for combination in row)\n",
    "}).T.fillna(0.0)"
   ]
  },
  {
   "cell_type": "markdown",
   "id": "ee24143b",
   "metadata": {},
   "source": [
    "### Split testing set into validation and testing"
   ]
  },
  {
   "cell_type": "code",
   "execution_count": 32,
   "id": "9904e013",
   "metadata": {},
   "outputs": [
    {
     "name": "stdout",
     "output_type": "stream",
     "text": [
      "Validation set length: 4373, Testing set length: 4382\n"
     ]
    }
   ],
   "source": [
    "X_val, y_val, X_test, y_test = iterative_train_test_split(X_test, y_test, test_size = 0.5)\n",
    "print('Validation set length: '+str(len(X_val)) +', Testing set length: '+ str(len(X_test)))"
   ]
  },
  {
   "cell_type": "code",
   "execution_count": 33,
   "id": "67c4b1b2",
   "metadata": {},
   "outputs": [
    {
     "data": {
      "text/html": [
       "<div>\n",
       "<style scoped>\n",
       "    .dataframe tbody tr th:only-of-type {\n",
       "        vertical-align: middle;\n",
       "    }\n",
       "\n",
       "    .dataframe tbody tr th {\n",
       "        vertical-align: top;\n",
       "    }\n",
       "\n",
       "    .dataframe thead th {\n",
       "        text-align: right;\n",
       "    }\n",
       "</style>\n",
       "<table border=\"1\" class=\"dataframe\">\n",
       "  <thead>\n",
       "    <tr style=\"text-align: right;\">\n",
       "      <th></th>\n",
       "      <th>(40,)</th>\n",
       "      <th>(130,)</th>\n",
       "      <th>(75,)</th>\n",
       "      <th>(188,)</th>\n",
       "      <th>(17,)</th>\n",
       "      <th>(152,)</th>\n",
       "      <th>(158,)</th>\n",
       "      <th>(144,)</th>\n",
       "      <th>(70,)</th>\n",
       "      <th>(9,)</th>\n",
       "      <th>...</th>\n",
       "      <th>(173,)</th>\n",
       "      <th>(174,)</th>\n",
       "      <th>(112,)</th>\n",
       "      <th>(198,)</th>\n",
       "      <th>(23,)</th>\n",
       "      <th>(63,)</th>\n",
       "      <th>(55,)</th>\n",
       "      <th>(149,)</th>\n",
       "      <th>(59,)</th>\n",
       "      <th>(94,)</th>\n",
       "    </tr>\n",
       "  </thead>\n",
       "  <tbody>\n",
       "    <tr>\n",
       "      <th>val</th>\n",
       "      <td>213</td>\n",
       "      <td>174</td>\n",
       "      <td>276</td>\n",
       "      <td>64</td>\n",
       "      <td>376</td>\n",
       "      <td>194</td>\n",
       "      <td>89</td>\n",
       "      <td>427</td>\n",
       "      <td>52</td>\n",
       "      <td>94</td>\n",
       "      <td>...</td>\n",
       "      <td>64</td>\n",
       "      <td>15</td>\n",
       "      <td>10</td>\n",
       "      <td>9</td>\n",
       "      <td>37</td>\n",
       "      <td>16</td>\n",
       "      <td>16</td>\n",
       "      <td>10</td>\n",
       "      <td>9</td>\n",
       "      <td>10</td>\n",
       "    </tr>\n",
       "    <tr>\n",
       "      <th>test</th>\n",
       "      <td>219</td>\n",
       "      <td>171</td>\n",
       "      <td>284</td>\n",
       "      <td>53</td>\n",
       "      <td>372</td>\n",
       "      <td>205</td>\n",
       "      <td>71</td>\n",
       "      <td>427</td>\n",
       "      <td>56</td>\n",
       "      <td>87</td>\n",
       "      <td>...</td>\n",
       "      <td>59</td>\n",
       "      <td>24</td>\n",
       "      <td>12</td>\n",
       "      <td>13</td>\n",
       "      <td>38</td>\n",
       "      <td>17</td>\n",
       "      <td>17</td>\n",
       "      <td>36</td>\n",
       "      <td>14</td>\n",
       "      <td>11</td>\n",
       "    </tr>\n",
       "  </tbody>\n",
       "</table>\n",
       "<p>2 rows × 200 columns</p>\n",
       "</div>"
      ],
      "text/plain": [
       "      (40,)  (130,)  (75,)  (188,)  (17,)  (152,)  (158,)  (144,)  (70,)  \\\n",
       "val     213     174    276      64    376     194      89     427     52   \n",
       "test    219     171    284      53    372     205      71     427     56   \n",
       "\n",
       "      (9,)  ...  (173,)  (174,)  (112,)  (198,)  (23,)  (63,)  (55,)  (149,)  \\\n",
       "val     94  ...      64      15      10       9     37     16     16      10   \n",
       "test    87  ...      59      24      12      13     38     17     17      36   \n",
       "\n",
       "      (59,)  (94,)  \n",
       "val       9     10  \n",
       "test     14     11  \n",
       "\n",
       "[2 rows x 200 columns]"
      ]
     },
     "execution_count": 33,
     "metadata": {},
     "output_type": "execute_result"
    }
   ],
   "source": [
    "pd.DataFrame({\n",
    "    'val': Counter(str(combination) for row in get_combination_wise_output_matrix(y_val, order=1) for combination in row),\n",
    "    'test' : Counter(str(combination) for row in get_combination_wise_output_matrix(y_test, order=1) for combination in row)\n",
    "}).T.fillna(0.0)"
   ]
  },
  {
   "cell_type": "markdown",
   "id": "dcab3a4a",
   "metadata": {},
   "source": [
    "## Statistics for each set"
   ]
  },
  {
   "cell_type": "code",
   "execution_count": 34,
   "id": "72aefd6c",
   "metadata": {},
   "outputs": [],
   "source": [
    "import matplotlib.pyplot as plt"
   ]
  },
  {
   "cell_type": "code",
   "execution_count": 35,
   "id": "f52c6156",
   "metadata": {},
   "outputs": [],
   "source": [
    "grouped_by_table_dict = grouped_by_table.to_dict('records')"
   ]
  },
  {
   "cell_type": "code",
   "execution_count": 36,
   "id": "ef09d877",
   "metadata": {},
   "outputs": [],
   "source": [
    "#Dictionary with table names as key and relation labels as values\n",
    "file_to_label = {}\n",
    "for row in grouped_by_table_dict:\n",
    "    file_to_label[row['file_name']] = row['relation_label']"
   ]
  },
  {
   "cell_type": "markdown",
   "id": "a113c0b6",
   "metadata": {},
   "source": [
    "### Training set"
   ]
  },
  {
   "cell_type": "code",
   "execution_count": 37,
   "id": "b6319619",
   "metadata": {},
   "outputs": [
    {
     "name": "stdout",
     "output_type": "stream",
     "text": [
      "Number of unique relation labels in training set: 200\n"
     ]
    }
   ],
   "source": [
    "#Count how many columns per label\n",
    "label_and_number_train = {}\n",
    "for row in X_train:\n",
    "    \n",
    "    for label in file_to_label[row[0]].split(','):\n",
    "        if label in label_and_number_train:\n",
    "            label_and_number_train[label] += 1\n",
    "        else:\n",
    "            label_and_number_train[label] = 1\n",
    "print('Number of unique relation labels in training set: '+ str(len(label_and_number_train)))"
   ]
  },
  {
   "cell_type": "code",
   "execution_count": 38,
   "id": "009ab4ba",
   "metadata": {},
   "outputs": [
    {
     "data": {
      "text/plain": [
       "dict_values([6460, 742, 2437, 447, 658, 3440, 1234, 415, 141, 687, 207, 551, 1543, 2119, 330, 2674, 3894, 1685, 3244, 1722, 88, 616, 1225, 1188, 1622, 370, 74, 1481, 606, 70, 168, 242, 268, 254, 282, 1124, 1122, 1353, 4003, 204, 126, 85, 65, 67, 66, 61, 3563, 3200, 1176, 286, 229, 1962, 413, 988, 230, 560, 874, 532, 235, 1100, 42, 710, 2556, 3206, 2411, 235, 55, 49, 94, 2582, 2150, 1645, 1653, 138, 111, 246, 330, 2114, 948, 95, 381, 68, 91, 40, 192, 730, 84, 102, 105, 95, 41, 358, 348, 357, 501, 274, 117, 283, 328, 168, 64, 134, 127, 97, 124, 88, 63, 811, 183, 417, 106, 114, 59, 102, 154, 401, 292, 312, 238, 269, 283, 352, 298, 70, 949, 308, 995, 834, 401, 215, 95, 687, 173, 113, 59, 114, 217, 150, 150, 257, 42, 118, 553, 306, 830, 1145, 871, 329, 82, 308, 244, 242, 1672, 277, 282, 418, 344, 478, 184, 107, 309, 371, 372, 150, 263, 270, 63, 52, 274, 318, 517, 367, 558, 771, 692, 848, 425, 431, 551, 639, 751, 792, 696, 656, 347, 546, 549, 448, 683, 443, 466, 422, 320, 330, 133, 134, 299, 143, 104, 83])"
      ]
     },
     "execution_count": 38,
     "metadata": {},
     "output_type": "execute_result"
    }
   ],
   "source": [
    "label_and_number_train.values()"
   ]
  },
  {
   "cell_type": "code",
   "execution_count": 39,
   "id": "1c7fb4fc",
   "metadata": {},
   "outputs": [
    {
     "name": "stdout",
     "output_type": "stream",
     "text": [
      "Minimum column count per label is: 40\n",
      "Maximum column count per label is: 6460\n",
      "Total column count is: 129134\n"
     ]
    }
   ],
   "source": [
    "print('Minimum column count per label is: '+str(min(label_and_number_train.values())) )\n",
    "print('Maximum column count per label is: '+str(max(label_and_number_train.values())) )\n",
    "print('Total column count is: '+str(sum(label_and_number_train.values())) )"
   ]
  },
  {
   "cell_type": "code",
   "execution_count": 40,
   "id": "96e9ce67",
   "metadata": {},
   "outputs": [
    {
     "data": {
      "text/plain": [
       "Text(0.5, 0, 'Number of columns')"
      ]
     },
     "execution_count": 40,
     "metadata": {},
     "output_type": "execute_result"
    },
    {
     "data": {
      "image/png": "[encoded data removed]",
      "text/plain": [
       "<Figure size 1080x360 with 1 Axes>"
      ]
     },
     "metadata": {
      "needs_background": "light"
     },
     "output_type": "display_data"
    }
   ],
   "source": [
    "plt.figure(figsize=(15,5))\n",
    "plt.hist(label_and_number_train.values(), bins=10)\n",
    "plt.ylabel('Label Count')\n",
    "plt.xlabel('Number of columns')"
   ]
  },
  {
   "cell_type": "markdown",
   "id": "749a7725",
   "metadata": {},
   "source": [
    "### Validation set"
   ]
  },
  {
   "cell_type": "code",
   "execution_count": 41,
   "id": "dfeb1675",
   "metadata": {},
   "outputs": [
    {
     "name": "stdout",
     "output_type": "stream",
     "text": [
      "Number of unique relation labels in validation set: 200\n"
     ]
    }
   ],
   "source": [
    "#Count how many columns per label\n",
    "label_and_number_val = {}\n",
    "for row in X_val:\n",
    "    \n",
    "    for label in file_to_label[row[0]].split(','):\n",
    "        if label in label_and_number_val:\n",
    "            label_and_number_val[label] += 1\n",
    "        else:\n",
    "            label_and_number_val[label] = 1\n",
    "print('Number of unique relation labels in validation set: '+ str(len(label_and_number_val)))"
   ]
  },
  {
   "cell_type": "code",
   "execution_count": 42,
   "id": "ac4b7ec7",
   "metadata": {},
   "outputs": [
    {
     "data": {
      "text/plain": [
       "dict_values([89, 94, 64, 52, 376, 213, 438, 277, 174, 194, 349, 896, 31, 486, 181, 42, 469, 206, 220, 61, 84, 76, 102, 170, 122, 29, 218, 8, 8, 12, 31, 32, 35, 160, 142, 24, 24, 18, 180, 39, 498, 25, 20, 7, 8, 40, 34, 446, 400, 246, 92, 153, 60, 28, 109, 63, 46, 7, 52, 28, 5, 30, 134, 30, 419, 307, 6, 118, 273, 324, 331, 31, 269, 48, 210, 208, 22, 33, 41, 15, 27, 9, 16, 5, 23, 96, 9, 12, 12, 12, 5, 38, 42, 43, 41, 35, 15, 34, 8, 16, 11, 22, 62, 10, 15, 8, 17, 100, 37, 73, 18, 13, 14, 20, 7, 37, 39, 51, 37, 130, 40, 33, 14, 8, 19, 22, 93, 9, 14, 31, 124, 57, 109, 40, 38, 17, 36, 31, 9, 5, 22, 28, 19, 9, 209, 104, 143, 36, 50, 11, 23, 14, 30, 56, 72, 41, 61, 40, 45, 60, 37, 124, 40, 30, 35, 34, 32, 6, 34, 69, 116, 127, 107, 81, 80, 40, 45, 67, 53, 96, 100, 99, 86, 84, 84, 78, 62, 88, 70, 77, 64, 15, 10, 9, 37, 16, 16, 10, 9, 10])"
      ]
     },
     "execution_count": 42,
     "metadata": {},
     "output_type": "execute_result"
    }
   ],
   "source": [
    "label_and_number_val.values()"
   ]
  },
  {
   "cell_type": "code",
   "execution_count": 43,
   "id": "be717978",
   "metadata": {},
   "outputs": [
    {
     "name": "stdout",
     "output_type": "stream",
     "text": [
      "Minimum column count per label is: 5\n",
      "Maximum column count per label is: 896\n",
      "Total column count is: 16960\n"
     ]
    }
   ],
   "source": [
    "print('Minimum column count per label is: '+str(min(label_and_number_val.values())) )\n",
    "print('Maximum column count per label is: '+str(max(label_and_number_val.values())) )\n",
    "print('Total column count is: '+str(sum(label_and_number_val.values())) )"
   ]
  },
  {
   "cell_type": "code",
   "execution_count": 44,
   "id": "f0775b70",
   "metadata": {},
   "outputs": [
    {
     "data": {
      "text/plain": [
       "Text(0.5, 0, 'Number of columns')"
      ]
     },
     "execution_count": 44,
     "metadata": {},
     "output_type": "execute_result"
    },
    {
     "data": {
      "image/png": "[encoded data removed]",
      "text/plain": [
       "<Figure size 1080x360 with 1 Axes>"
      ]
     },
     "metadata": {
      "needs_background": "light"
     },
     "output_type": "display_data"
    }
   ],
   "source": [
    "plt.figure(figsize=(15,5))\n",
    "plt.hist(label_and_number_val.values(), bins=10)\n",
    "plt.ylabel('Label Count')\n",
    "plt.xlabel('Number of columns')"
   ]
  },
  {
   "cell_type": "markdown",
   "id": "37ad560b",
   "metadata": {},
   "source": [
    "### Testing set"
   ]
  },
  {
   "cell_type": "code",
   "execution_count": 45,
   "id": "81cfea07",
   "metadata": {},
   "outputs": [
    {
     "name": "stdout",
     "output_type": "stream",
     "text": [
      "Number of unique relation labels in testing set: 200\n"
     ]
    }
   ],
   "source": [
    "#Count how many columns per label\n",
    "label_and_number_test = {}\n",
    "for row in X_test:\n",
    "    \n",
    "    for label in file_to_label[row[0]].split(','):\n",
    "        if label in label_and_number_test:\n",
    "            label_and_number_test[label] += 1\n",
    "        else:\n",
    "            label_and_number_test[label] = 1\n",
    "print('Number of unique relation labels in testing set: '+ str(len(label_and_number_test)))"
   ]
  },
  {
   "cell_type": "code",
   "execution_count": 46,
   "id": "0e8a4f95",
   "metadata": {},
   "outputs": [
    {
     "data": {
      "text/plain": [
       "dict_values([468, 372, 105, 205, 346, 901, 87, 487, 203, 438, 219, 57, 53, 56, 71, 171, 227, 164, 29, 12, 33, 84, 76, 46, 41, 285, 10, 9, 114, 163, 238, 32, 31, 35, 164, 145, 24, 26, 31, 9, 20, 18, 42, 499, 172, 8, 445, 400, 245, 39, 150, 31, 63, 109, 68, 51, 29, 29, 149, 51, 5, 85, 29, 6, 7, 325, 409, 211, 212, 30, 269, 42, 274, 322, 21, 26, 26, 13, 47, 303, 27, 119, 105, 8, 5, 25, 13, 13, 12, 8, 12, 44, 38, 43, 35, 36, 14, 41, 16, 8, 8, 22, 17, 11, 63, 16, 8, 30, 112, 71, 14, 13, 8, 19, 15, 36, 39, 65, 45, 39, 37, 95, 56, 15, 37, 40, 120, 118, 31, 9, 14, 40, 125, 34, 21, 7, 19, 20, 8, 10, 6, 25, 39, 23, 10, 31, 143, 52, 35, 209, 74, 116, 30, 48, 57, 56, 37, 52, 103, 62, 19, 39, 34, 13, 33, 7, 7, 29, 45, 129, 118, 111, 102, 101, 86, 39, 68, 59, 84, 84, 70, 77, 80, 86, 74, 34, 70, 78, 68, 94, 58, 24, 12, 13, 17, 17, 38, 36, 11, 14])"
      ]
     },
     "execution_count": 46,
     "metadata": {},
     "output_type": "execute_result"
    }
   ],
   "source": [
    "label_and_number_test.values()"
   ]
  },
  {
   "cell_type": "code",
   "execution_count": 47,
   "id": "b8d1dce7",
   "metadata": {},
   "outputs": [
    {
     "name": "stdout",
     "output_type": "stream",
     "text": [
      "Minimum column count per label is: 5\n",
      "Maximum column count per label is: 901\n",
      "Total column count is: 17062\n"
     ]
    }
   ],
   "source": [
    "print('Minimum column count per label is: '+str(min(label_and_number_test.values())) )\n",
    "print('Maximum column count per label is: '+str(max(label_and_number_test.values())) )\n",
    "print('Total column count is: '+str(sum(label_and_number_test.values())) )"
   ]
  },
  {
   "cell_type": "code",
   "execution_count": 48,
   "id": "cb931181",
   "metadata": {},
   "outputs": [
    {
     "data": {
      "text/plain": [
       "Text(0.5, 0, 'Number of columns')"
      ]
     },
     "execution_count": 48,
     "metadata": {},
     "output_type": "execute_result"
    },
    {
     "data": {
      "image/png": "[encoded data removed]",
      "text/plain": [
       "<Figure size 1080x360 with 1 Axes>"
      ]
     },
     "metadata": {
      "needs_background": "light"
     },
     "output_type": "display_data"
    }
   ],
   "source": [
    "plt.figure(figsize=(15,5))\n",
    "plt.hist(label_and_number_test.values(), bins=10)\n",
    "plt.ylabel('Label Count')\n",
    "plt.xlabel('Number of columns')"
   ]
  },
  {
   "cell_type": "markdown",
   "id": "b01f38db",
   "metadata": {},
   "source": [
    "## Prepare csv file for each set"
   ]
  },
  {
   "cell_type": "code",
   "execution_count": 49,
   "id": "4866b169",
   "metadata": {},
   "outputs": [],
   "source": [
    "training_tables = [ table[0] for table in X_train ]\n",
    "validation_tables = [ table[0] for table in X_val ]\n",
    "testing_tables = [ table[0] for table in X_test ]"
   ]
  },
  {
   "cell_type": "code",
   "execution_count": 50,
   "id": "0a107fc2",
   "metadata": {},
   "outputs": [
    {
     "data": {
      "text/html": [
       "<div>\n",
       "<style scoped>\n",
       "    .dataframe tbody tr th:only-of-type {\n",
       "        vertical-align: middle;\n",
       "    }\n",
       "\n",
       "    .dataframe tbody tr th {\n",
       "        vertical-align: top;\n",
       "    }\n",
       "\n",
       "    .dataframe thead th {\n",
       "        text-align: right;\n",
       "    }\n",
       "</style>\n",
       "<table border=\"1\" class=\"dataframe\">\n",
       "  <thead>\n",
       "    <tr style=\"text-align: right;\">\n",
       "      <th></th>\n",
       "      <th>class</th>\n",
       "      <th>column_name</th>\n",
       "      <th>file_name</th>\n",
       "      <th>relation_label</th>\n",
       "      <th>type_label</th>\n",
       "      <th>density</th>\n",
       "      <th>selection_type</th>\n",
       "      <th>values</th>\n",
       "    </tr>\n",
       "  </thead>\n",
       "  <tbody>\n",
       "    <tr>\n",
       "      <th>7</th>\n",
       "      <td>Product</td>\n",
       "      <td>offers:price</td>\n",
       "      <td>Product_winehousegvl.com_September2020.json.gz</td>\n",
       "      <td>price</td>\n",
       "      <td>price</td>\n",
       "      <td>100</td>\n",
       "      <td>Value Heterogeneity</td>\n",
       "      <td>[28, 26, 20, 29, 23, 20, 26, 27, 20, 22, 26, 2...</td>\n",
       "    </tr>\n",
       "    <tr>\n",
       "      <th>8</th>\n",
       "      <td>Product</td>\n",
       "      <td>offers:price</td>\n",
       "      <td>Product_juvenileplanet.com_September2020.json.gz</td>\n",
       "      <td>price</td>\n",
       "      <td>price</td>\n",
       "      <td>80</td>\n",
       "      <td>Value Heterogeneity</td>\n",
       "      <td>[27.3, 44.0, 44.0, 44.0, nan, 53.99, 0.0, 429....</td>\n",
       "    </tr>\n",
       "    <tr>\n",
       "      <th>9</th>\n",
       "      <td>Product</td>\n",
       "      <td>offers:price</td>\n",
       "      <td>Product_uppolomallets.com_September2020.json.gz</td>\n",
       "      <td>price</td>\n",
       "      <td>price</td>\n",
       "      <td>100</td>\n",
       "      <td>Value Heterogeneity</td>\n",
       "      <td>[7.29, 159.99, 31.99, 26.99, 200.0, 100.0, 35....</td>\n",
       "    </tr>\n",
       "    <tr>\n",
       "      <th>10</th>\n",
       "      <td>Product</td>\n",
       "      <td>offers:price</td>\n",
       "      <td>Product_tradefireworks.co.uk_September2020.jso...</td>\n",
       "      <td>price</td>\n",
       "      <td>price</td>\n",
       "      <td>100</td>\n",
       "      <td>Value Heterogeneity</td>\n",
       "      <td>[8, 30, 10, 75, 80, 130, 15, 15, 50, 12, 30, 7...</td>\n",
       "    </tr>\n",
       "    <tr>\n",
       "      <th>11</th>\n",
       "      <td>Product</td>\n",
       "      <td>offers:price</td>\n",
       "      <td>Product_andgifts.co.uk_September2020.json.gz</td>\n",
       "      <td>price</td>\n",
       "      <td>price</td>\n",
       "      <td>100</td>\n",
       "      <td>Value Heterogeneity</td>\n",
       "      <td>[1.29, 2.75, 5.5, 1.25, 2.25, 5.5, 7.99, 2.75,...</td>\n",
       "    </tr>\n",
       "    <tr>\n",
       "      <th>...</th>\n",
       "      <td>...</td>\n",
       "      <td>...</td>\n",
       "      <td>...</td>\n",
       "      <td>...</td>\n",
       "      <td>...</td>\n",
       "      <td>...</td>\n",
       "      <td>...</td>\n",
       "      <td>...</td>\n",
       "    </tr>\n",
       "    <tr>\n",
       "      <th>163151</th>\n",
       "      <td>MusicAlbum</td>\n",
       "      <td>numtracks</td>\n",
       "      <td>MusicAlbum_elviscarden.com_September2020.json.gz</td>\n",
       "      <td>numTracks</td>\n",
       "      <td>Integer</td>\n",
       "      <td>100</td>\n",
       "      <td>Random 3</td>\n",
       "      <td>[1, 1, 1, 1, 1, 1, 1, 1, 1, 1, 1, 1, 1, 1, 1, ...</td>\n",
       "    </tr>\n",
       "    <tr>\n",
       "      <th>163152</th>\n",
       "      <td>MusicAlbum</td>\n",
       "      <td>track:name</td>\n",
       "      <td>MusicAlbum_elviscarden.com_September2020.json.gz</td>\n",
       "      <td>track</td>\n",
       "      <td>MusicRecording</td>\n",
       "      <td>100</td>\n",
       "      <td>Random 3</td>\n",
       "      <td>[IT\\\"S RAINING IN NASHVILLE, MR.RAIN MAN, Mr.R...</td>\n",
       "    </tr>\n",
       "    <tr>\n",
       "      <th>163153</th>\n",
       "      <td>CreativeWork</td>\n",
       "      <td>datecreated</td>\n",
       "      <td>CreativeWork_ywbc.org.uk_September2020.json.gz</td>\n",
       "      <td>dateCreated</td>\n",
       "      <td>DateTime</td>\n",
       "      <td>100</td>\n",
       "      <td>Inter Similarity</td>\n",
       "      <td>[2019-12-22T12:55:44+00:00, 2020-01-05T21:10:2...</td>\n",
       "    </tr>\n",
       "    <tr>\n",
       "      <th>163154</th>\n",
       "      <td>CreativeWork</td>\n",
       "      <td>author:name</td>\n",
       "      <td>CreativeWork_ywbc.org.uk_September2020.json.gz</td>\n",
       "      <td>author</td>\n",
       "      <td>Person</td>\n",
       "      <td>100</td>\n",
       "      <td>Random</td>\n",
       "      <td>[Rev Richard Alford, Phil Jackman, Phil Jackma...</td>\n",
       "    </tr>\n",
       "    <tr>\n",
       "      <th>163155</th>\n",
       "      <td>SportsEvent</td>\n",
       "      <td>competitor:name</td>\n",
       "      <td>SportsEvent_blastertagassociation.com_Septembe...</td>\n",
       "      <td>competitor</td>\n",
       "      <td>SportsTeam</td>\n",
       "      <td>100</td>\n",
       "      <td>Random 3</td>\n",
       "      <td>[[Fluffy Rainbow Unicorn Soldiers, Doomsday], ...</td>\n",
       "    </tr>\n",
       "  </tbody>\n",
       "</table>\n",
       "<p>129134 rows × 8 columns</p>\n",
       "</div>"
      ],
      "text/plain": [
       "               class      column_name  \\\n",
       "7            Product     offers:price   \n",
       "8            Product     offers:price   \n",
       "9            Product     offers:price   \n",
       "10           Product     offers:price   \n",
       "11           Product     offers:price   \n",
       "...              ...              ...   \n",
       "163151    MusicAlbum        numtracks   \n",
       "163152    MusicAlbum       track:name   \n",
       "163153  CreativeWork      datecreated   \n",
       "163154  CreativeWork      author:name   \n",
       "163155   SportsEvent  competitor:name   \n",
       "\n",
       "                                                file_name relation_label  \\\n",
       "7          Product_winehousegvl.com_September2020.json.gz          price   \n",
       "8        Product_juvenileplanet.com_September2020.json.gz          price   \n",
       "9         Product_uppolomallets.com_September2020.json.gz          price   \n",
       "10      Product_tradefireworks.co.uk_September2020.jso...          price   \n",
       "11           Product_andgifts.co.uk_September2020.json.gz          price   \n",
       "...                                                   ...            ...   \n",
       "163151   MusicAlbum_elviscarden.com_September2020.json.gz      numTracks   \n",
       "163152   MusicAlbum_elviscarden.com_September2020.json.gz          track   \n",
       "163153     CreativeWork_ywbc.org.uk_September2020.json.gz    dateCreated   \n",
       "163154     CreativeWork_ywbc.org.uk_September2020.json.gz         author   \n",
       "163155  SportsEvent_blastertagassociation.com_Septembe...     competitor   \n",
       "\n",
       "            type_label  density       selection_type  \\\n",
       "7                price      100  Value Heterogeneity   \n",
       "8                price       80  Value Heterogeneity   \n",
       "9                price      100  Value Heterogeneity   \n",
       "10               price      100  Value Heterogeneity   \n",
       "11               price      100  Value Heterogeneity   \n",
       "...                ...      ...                  ...   \n",
       "163151         Integer      100             Random 3   \n",
       "163152  MusicRecording      100             Random 3   \n",
       "163153        DateTime      100     Inter Similarity   \n",
       "163154          Person      100               Random   \n",
       "163155      SportsTeam      100             Random 3   \n",
       "\n",
       "                                                   values  \n",
       "7       [28, 26, 20, 29, 23, 20, 26, 27, 20, 22, 26, 2...  \n",
       "8       [27.3, 44.0, 44.0, 44.0, nan, 53.99, 0.0, 429....  \n",
       "9       [7.29, 159.99, 31.99, 26.99, 200.0, 100.0, 35....  \n",
       "10      [8, 30, 10, 75, 80, 130, 15, 15, 50, 12, 30, 7...  \n",
       "11      [1.29, 2.75, 5.5, 1.25, 2.25, 5.5, 7.99, 2.75,...  \n",
       "...                                                   ...  \n",
       "163151  [1, 1, 1, 1, 1, 1, 1, 1, 1, 1, 1, 1, 1, 1, 1, ...  \n",
       "163152  [IT\\\"S RAINING IN NASHVILLE, MR.RAIN MAN, Mr.R...  \n",
       "163153  [2019-12-22T12:55:44+00:00, 2020-01-05T21:10:2...  \n",
       "163154  [Rev Richard Alford, Phil Jackman, Phil Jackma...  \n",
       "163155  [[Fluffy Rainbow Unicorn Soldiers, Doomsday], ...  \n",
       "\n",
       "[129134 rows x 8 columns]"
      ]
     },
     "execution_count": 50,
     "metadata": {},
     "output_type": "execute_result"
    }
   ],
   "source": [
    "training_set = dataset.loc[dataset['file_name'].isin(training_tables)]\n",
    "training_set"
   ]
  },
  {
   "cell_type": "code",
   "execution_count": 51,
   "id": "6b093aa8",
   "metadata": {},
   "outputs": [
    {
     "data": {
      "text/html": [
       "<div>\n",
       "<style scoped>\n",
       "    .dataframe tbody tr th:only-of-type {\n",
       "        vertical-align: middle;\n",
       "    }\n",
       "\n",
       "    .dataframe tbody tr th {\n",
       "        vertical-align: top;\n",
       "    }\n",
       "\n",
       "    .dataframe thead th {\n",
       "        text-align: right;\n",
       "    }\n",
       "</style>\n",
       "<table border=\"1\" class=\"dataframe\">\n",
       "  <thead>\n",
       "    <tr style=\"text-align: right;\">\n",
       "      <th></th>\n",
       "      <th>class</th>\n",
       "      <th>column_name</th>\n",
       "      <th>file_name</th>\n",
       "      <th>relation_label</th>\n",
       "      <th>type_label</th>\n",
       "      <th>density</th>\n",
       "      <th>selection_type</th>\n",
       "      <th>values</th>\n",
       "    </tr>\n",
       "  </thead>\n",
       "  <tbody>\n",
       "    <tr>\n",
       "      <th>5</th>\n",
       "      <td>Event</td>\n",
       "      <td>startdate</td>\n",
       "      <td>Event_davidlohmueller.com_September2020.json.gz</td>\n",
       "      <td>startDate</td>\n",
       "      <td>DateTime</td>\n",
       "      <td>100</td>\n",
       "      <td>Intra similarity</td>\n",
       "      <td>[2021-05-04T19:00:00+01:00, 2021-03-07T17:30:0...</td>\n",
       "    </tr>\n",
       "    <tr>\n",
       "      <th>6</th>\n",
       "      <td>Event</td>\n",
       "      <td>enddate</td>\n",
       "      <td>Event_davidlohmueller.com_September2020.json.gz</td>\n",
       "      <td>endDate</td>\n",
       "      <td>DateTime</td>\n",
       "      <td>100</td>\n",
       "      <td>Intra similarity</td>\n",
       "      <td>[2021-05-04T21:30:00+01:00, 2021-03-07T19:00:0...</td>\n",
       "    </tr>\n",
       "    <tr>\n",
       "      <th>74</th>\n",
       "      <td>Person</td>\n",
       "      <td>telephone</td>\n",
       "      <td>Person_archibaldrealestate.com_September2020.j...</td>\n",
       "      <td>telephone</td>\n",
       "      <td>telephone</td>\n",
       "      <td>100</td>\n",
       "      <td>Value Heterogeneity</td>\n",
       "      <td>[Cell: (208) 589-8120, [Office: (208) 745-5911...</td>\n",
       "    </tr>\n",
       "    <tr>\n",
       "      <th>75</th>\n",
       "      <td>Person</td>\n",
       "      <td>jobtitle</td>\n",
       "      <td>Person_archibaldrealestate.com_September2020.j...</td>\n",
       "      <td>jobTitle</td>\n",
       "      <td>Text</td>\n",
       "      <td>28</td>\n",
       "      <td>Random</td>\n",
       "      <td>[Sales Associate, None, None, Sales Associate,...</td>\n",
       "    </tr>\n",
       "    <tr>\n",
       "      <th>99</th>\n",
       "      <td>Product</td>\n",
       "      <td>offers:price</td>\n",
       "      <td>Product_aimcouture.com_September2020.json.gz</td>\n",
       "      <td>price</td>\n",
       "      <td>price</td>\n",
       "      <td>100</td>\n",
       "      <td>Value Heterogeneity</td>\n",
       "      <td>[65, 75, 75, 95, 49, 165, 385, 195, 125, 65, 6...</td>\n",
       "    </tr>\n",
       "    <tr>\n",
       "      <th>...</th>\n",
       "      <td>...</td>\n",
       "      <td>...</td>\n",
       "      <td>...</td>\n",
       "      <td>...</td>\n",
       "      <td>...</td>\n",
       "      <td>...</td>\n",
       "      <td>...</td>\n",
       "      <td>...</td>\n",
       "    </tr>\n",
       "    <tr>\n",
       "      <th>163127</th>\n",
       "      <td>CreativeWork</td>\n",
       "      <td>contentlocation</td>\n",
       "      <td>CreativeWork_jcj.com_September2020.json.gz</td>\n",
       "      <td>contentLocation</td>\n",
       "      <td>Place</td>\n",
       "      <td>100</td>\n",
       "      <td>Random 3</td>\n",
       "      <td>[Crownpoint, NM &amp; Tuba City, AZ, Hartford, CT,...</td>\n",
       "    </tr>\n",
       "    <tr>\n",
       "      <th>163130</th>\n",
       "      <td>Book</td>\n",
       "      <td>numberofpages</td>\n",
       "      <td>Book_lanternpublishing.com_September2020.json.gz</td>\n",
       "      <td>numberOfPages</td>\n",
       "      <td>Integer</td>\n",
       "      <td>100</td>\n",
       "      <td>Inter Similarity</td>\n",
       "      <td>[102, 264, 100, 226, 154, 160, 184, 178, 224, ...</td>\n",
       "    </tr>\n",
       "    <tr>\n",
       "      <th>163131</th>\n",
       "      <td>Book</td>\n",
       "      <td>description</td>\n",
       "      <td>Book_lanternpublishing.com_September2020.json.gz</td>\n",
       "      <td>description</td>\n",
       "      <td>Text</td>\n",
       "      <td>100</td>\n",
       "      <td>Random</td>\n",
       "      <td>[A handy pocket guide to help mental health st...</td>\n",
       "    </tr>\n",
       "    <tr>\n",
       "      <th>163132</th>\n",
       "      <td>Book</td>\n",
       "      <td>author:name</td>\n",
       "      <td>Book_lanternpublishing.com_September2020.json.gz</td>\n",
       "      <td>author</td>\n",
       "      <td>Person</td>\n",
       "      <td>100</td>\n",
       "      <td>Random</td>\n",
       "      <td>[[Angelina Chadwick, Maxine Womack, Luke Woodh...</td>\n",
       "    </tr>\n",
       "    <tr>\n",
       "      <th>163133</th>\n",
       "      <td>Book</td>\n",
       "      <td>publisher:name</td>\n",
       "      <td>Book_lanternpublishing.com_September2020.json.gz</td>\n",
       "      <td>publisher</td>\n",
       "      <td>Organization</td>\n",
       "      <td>100</td>\n",
       "      <td>Random</td>\n",
       "      <td>[Lantern Publishing, Lantern Publishing, Lante...</td>\n",
       "    </tr>\n",
       "  </tbody>\n",
       "</table>\n",
       "<p>16960 rows × 8 columns</p>\n",
       "</div>"
      ],
      "text/plain": [
       "               class      column_name  \\\n",
       "5              Event        startdate   \n",
       "6              Event          enddate   \n",
       "74            Person        telephone   \n",
       "75            Person         jobtitle   \n",
       "99           Product     offers:price   \n",
       "...              ...              ...   \n",
       "163127  CreativeWork  contentlocation   \n",
       "163130          Book    numberofpages   \n",
       "163131          Book      description   \n",
       "163132          Book      author:name   \n",
       "163133          Book   publisher:name   \n",
       "\n",
       "                                                file_name   relation_label  \\\n",
       "5         Event_davidlohmueller.com_September2020.json.gz        startDate   \n",
       "6         Event_davidlohmueller.com_September2020.json.gz          endDate   \n",
       "74      Person_archibaldrealestate.com_September2020.j...        telephone   \n",
       "75      Person_archibaldrealestate.com_September2020.j...         jobTitle   \n",
       "99           Product_aimcouture.com_September2020.json.gz            price   \n",
       "...                                                   ...              ...   \n",
       "163127         CreativeWork_jcj.com_September2020.json.gz  contentLocation   \n",
       "163130   Book_lanternpublishing.com_September2020.json.gz    numberOfPages   \n",
       "163131   Book_lanternpublishing.com_September2020.json.gz      description   \n",
       "163132   Book_lanternpublishing.com_September2020.json.gz           author   \n",
       "163133   Book_lanternpublishing.com_September2020.json.gz        publisher   \n",
       "\n",
       "          type_label  density       selection_type  \\\n",
       "5           DateTime      100     Intra similarity   \n",
       "6           DateTime      100     Intra similarity   \n",
       "74         telephone      100  Value Heterogeneity   \n",
       "75              Text       28               Random   \n",
       "99             price      100  Value Heterogeneity   \n",
       "...              ...      ...                  ...   \n",
       "163127         Place      100             Random 3   \n",
       "163130       Integer      100     Inter Similarity   \n",
       "163131          Text      100               Random   \n",
       "163132        Person      100               Random   \n",
       "163133  Organization      100               Random   \n",
       "\n",
       "                                                   values  \n",
       "5       [2021-05-04T19:00:00+01:00, 2021-03-07T17:30:0...  \n",
       "6       [2021-05-04T21:30:00+01:00, 2021-03-07T19:00:0...  \n",
       "74      [Cell: (208) 589-8120, [Office: (208) 745-5911...  \n",
       "75      [Sales Associate, None, None, Sales Associate,...  \n",
       "99      [65, 75, 75, 95, 49, 165, 385, 195, 125, 65, 6...  \n",
       "...                                                   ...  \n",
       "163127  [Crownpoint, NM & Tuba City, AZ, Hartford, CT,...  \n",
       "163130  [102, 264, 100, 226, 154, 160, 184, 178, 224, ...  \n",
       "163131  [A handy pocket guide to help mental health st...  \n",
       "163132  [[Angelina Chadwick, Maxine Womack, Luke Woodh...  \n",
       "163133  [Lantern Publishing, Lantern Publishing, Lante...  \n",
       "\n",
       "[16960 rows x 8 columns]"
      ]
     },
     "execution_count": 51,
     "metadata": {},
     "output_type": "execute_result"
    }
   ],
   "source": [
    "validation_set = dataset.loc[dataset['file_name'].isin(validation_tables)]\n",
    "validation_set"
   ]
  },
  {
   "cell_type": "code",
   "execution_count": 52,
   "id": "bac9bbf2",
   "metadata": {},
   "outputs": [
    {
     "data": {
      "text/html": [
       "<div>\n",
       "<style scoped>\n",
       "    .dataframe tbody tr th:only-of-type {\n",
       "        vertical-align: middle;\n",
       "    }\n",
       "\n",
       "    .dataframe tbody tr th {\n",
       "        vertical-align: top;\n",
       "    }\n",
       "\n",
       "    .dataframe thead th {\n",
       "        text-align: right;\n",
       "    }\n",
       "</style>\n",
       "<table border=\"1\" class=\"dataframe\">\n",
       "  <thead>\n",
       "    <tr style=\"text-align: right;\">\n",
       "      <th></th>\n",
       "      <th>class</th>\n",
       "      <th>column_name</th>\n",
       "      <th>file_name</th>\n",
       "      <th>relation_label</th>\n",
       "      <th>type_label</th>\n",
       "      <th>density</th>\n",
       "      <th>selection_type</th>\n",
       "      <th>values</th>\n",
       "    </tr>\n",
       "  </thead>\n",
       "  <tbody>\n",
       "    <tr>\n",
       "      <th>0</th>\n",
       "      <td>Product</td>\n",
       "      <td>offers:price</td>\n",
       "      <td>Product_corememoriesco.com_September2020.json.gz</td>\n",
       "      <td>price</td>\n",
       "      <td>price</td>\n",
       "      <td>100</td>\n",
       "      <td>Value Heterogeneity</td>\n",
       "      <td>[7.25, 24.95, 26.95, 24.95, 39.95, 24.95, 26.9...</td>\n",
       "    </tr>\n",
       "    <tr>\n",
       "      <th>1</th>\n",
       "      <td>Product</td>\n",
       "      <td>url</td>\n",
       "      <td>Product_corememoriesco.com_September2020.json.gz</td>\n",
       "      <td>url</td>\n",
       "      <td>URL</td>\n",
       "      <td>100</td>\n",
       "      <td>Random</td>\n",
       "      <td>[https://corememoriesco.com/products/be-prepar...</td>\n",
       "    </tr>\n",
       "    <tr>\n",
       "      <th>2</th>\n",
       "      <td>Product</td>\n",
       "      <td>offers:pricecurrency</td>\n",
       "      <td>Product_corememoriesco.com_September2020.json.gz</td>\n",
       "      <td>priceCurrency</td>\n",
       "      <td>currency</td>\n",
       "      <td>100</td>\n",
       "      <td>Random</td>\n",
       "      <td>[USD, USD, USD, USD, USD, USD, USD, USD, USD, ...</td>\n",
       "    </tr>\n",
       "    <tr>\n",
       "      <th>3</th>\n",
       "      <td>Product</td>\n",
       "      <td>offers:description</td>\n",
       "      <td>Product_corememoriesco.com_September2020.json.gz</td>\n",
       "      <td>description</td>\n",
       "      <td>Text</td>\n",
       "      <td>100</td>\n",
       "      <td>Random</td>\n",
       "      <td>[For the truly fearless!, This t-shirt is ever...</td>\n",
       "    </tr>\n",
       "    <tr>\n",
       "      <th>4</th>\n",
       "      <td>Product</td>\n",
       "      <td>image</td>\n",
       "      <td>Product_corememoriesco.com_September2020.json.gz</td>\n",
       "      <td>image</td>\n",
       "      <td>URL</td>\n",
       "      <td>100</td>\n",
       "      <td>Random</td>\n",
       "      <td>[//cdn.shopify.com/s/files/1/2781/6282/product...</td>\n",
       "    </tr>\n",
       "    <tr>\n",
       "      <th>...</th>\n",
       "      <td>...</td>\n",
       "      <td>...</td>\n",
       "      <td>...</td>\n",
       "      <td>...</td>\n",
       "      <td>...</td>\n",
       "      <td>...</td>\n",
       "      <td>...</td>\n",
       "      <td>...</td>\n",
       "    </tr>\n",
       "    <tr>\n",
       "      <th>163146</th>\n",
       "      <td>CreativeWork</td>\n",
       "      <td>datemodified</td>\n",
       "      <td>CreativeWork_gsx-r1000.de_September2020.json.gz</td>\n",
       "      <td>dateModified</td>\n",
       "      <td>DateTime</td>\n",
       "      <td>100</td>\n",
       "      <td>Random</td>\n",
       "      <td>[2013-10-29T21:00:57+01:00, 2014-03-05T19:45:3...</td>\n",
       "    </tr>\n",
       "    <tr>\n",
       "      <th>163147</th>\n",
       "      <td>CreativeWork</td>\n",
       "      <td>description</td>\n",
       "      <td>CreativeWork_gsx-r1000.de_September2020.json.gz</td>\n",
       "      <td>description</td>\n",
       "      <td>Text</td>\n",
       "      <td>91</td>\n",
       "      <td>Random</td>\n",
       "      <td>[Quelle: www.gs-classic.de © GSX-R1000.de, Pro...</td>\n",
       "    </tr>\n",
       "    <tr>\n",
       "      <th>163148</th>\n",
       "      <td>CreativeWork</td>\n",
       "      <td>version</td>\n",
       "      <td>CreativeWork_gsx-r1000.de_September2020.json.gz</td>\n",
       "      <td>version</td>\n",
       "      <td>Text</td>\n",
       "      <td>75</td>\n",
       "      <td>Random</td>\n",
       "      <td>[2013-10-29, 2014-03-05, None, None, 29.11.201...</td>\n",
       "    </tr>\n",
       "    <tr>\n",
       "      <th>163149</th>\n",
       "      <td>CreativeWork</td>\n",
       "      <td>author:name</td>\n",
       "      <td>CreativeWork_gsx-r1000.de_September2020.json.gz</td>\n",
       "      <td>author</td>\n",
       "      <td>Person</td>\n",
       "      <td>100</td>\n",
       "      <td>Random</td>\n",
       "      <td>[McViesch, gsxr1000k5lkm, gsxr1000k5lkm, gsxr1...</td>\n",
       "    </tr>\n",
       "    <tr>\n",
       "      <th>163150</th>\n",
       "      <td>CreativeWork</td>\n",
       "      <td>alternativeheadline</td>\n",
       "      <td>CreativeWork_gsx-r1000.de_September2020.json.gz</td>\n",
       "      <td>alternativeHeadline</td>\n",
       "      <td>Text</td>\n",
       "      <td>100</td>\n",
       "      <td>Random</td>\n",
       "      <td>[Autor: McViech, Prospekt der GSX R 1000 K4Z L...</td>\n",
       "    </tr>\n",
       "  </tbody>\n",
       "</table>\n",
       "<p>17062 rows × 8 columns</p>\n",
       "</div>"
      ],
      "text/plain": [
       "               class           column_name  \\\n",
       "0            Product          offers:price   \n",
       "1            Product                   url   \n",
       "2            Product  offers:pricecurrency   \n",
       "3            Product    offers:description   \n",
       "4            Product                 image   \n",
       "...              ...                   ...   \n",
       "163146  CreativeWork          datemodified   \n",
       "163147  CreativeWork           description   \n",
       "163148  CreativeWork               version   \n",
       "163149  CreativeWork           author:name   \n",
       "163150  CreativeWork   alternativeheadline   \n",
       "\n",
       "                                               file_name       relation_label  \\\n",
       "0       Product_corememoriesco.com_September2020.json.gz                price   \n",
       "1       Product_corememoriesco.com_September2020.json.gz                  url   \n",
       "2       Product_corememoriesco.com_September2020.json.gz        priceCurrency   \n",
       "3       Product_corememoriesco.com_September2020.json.gz          description   \n",
       "4       Product_corememoriesco.com_September2020.json.gz                image   \n",
       "...                                                  ...                  ...   \n",
       "163146   CreativeWork_gsx-r1000.de_September2020.json.gz         dateModified   \n",
       "163147   CreativeWork_gsx-r1000.de_September2020.json.gz          description   \n",
       "163148   CreativeWork_gsx-r1000.de_September2020.json.gz              version   \n",
       "163149   CreativeWork_gsx-r1000.de_September2020.json.gz               author   \n",
       "163150   CreativeWork_gsx-r1000.de_September2020.json.gz  alternativeHeadline   \n",
       "\n",
       "       type_label  density       selection_type  \\\n",
       "0           price      100  Value Heterogeneity   \n",
       "1             URL      100               Random   \n",
       "2        currency      100               Random   \n",
       "3            Text      100               Random   \n",
       "4             URL      100               Random   \n",
       "...           ...      ...                  ...   \n",
       "163146   DateTime      100               Random   \n",
       "163147       Text       91               Random   \n",
       "163148       Text       75               Random   \n",
       "163149     Person      100               Random   \n",
       "163150       Text      100               Random   \n",
       "\n",
       "                                                   values  \n",
       "0       [7.25, 24.95, 26.95, 24.95, 39.95, 24.95, 26.9...  \n",
       "1       [https://corememoriesco.com/products/be-prepar...  \n",
       "2       [USD, USD, USD, USD, USD, USD, USD, USD, USD, ...  \n",
       "3       [For the truly fearless!, This t-shirt is ever...  \n",
       "4       [//cdn.shopify.com/s/files/1/2781/6282/product...  \n",
       "...                                                   ...  \n",
       "163146  [2013-10-29T21:00:57+01:00, 2014-03-05T19:45:3...  \n",
       "163147  [Quelle: www.gs-classic.de © GSX-R1000.de, Pro...  \n",
       "163148  [2013-10-29, 2014-03-05, None, None, 29.11.201...  \n",
       "163149  [McViesch, gsxr1000k5lkm, gsxr1000k5lkm, gsxr1...  \n",
       "163150  [Autor: McViech, Prospekt der GSX R 1000 K4Z L...  \n",
       "\n",
       "[17062 rows x 8 columns]"
      ]
     },
     "execution_count": 52,
     "metadata": {},
     "output_type": "execute_result"
    }
   ],
   "source": [
    "testing_set = dataset.loc[dataset['file_name'].isin(testing_tables)]\n",
    "testing_set"
   ]
  },
  {
   "cell_type": "code",
   "execution_count": null,
   "id": "dce27b09",
   "metadata": {},
   "outputs": [],
   "source": [
    "#Manual corrections:\n",
    "#Remove some types that do not have at least 10 examples in test set\n",
    "#Remove tables with less than 10% density\n",
    "\n",
    "exclude = ['petsAllowed',\n",
    "  'foundingDate',\n",
    "  'size',\n",
    "  'musicBy',\n",
    "  'honorificPrefix',\n",
    "  'honorificSuffix',\n",
    "  'isicV4',\n",
    "  'isFamilyFriendly',\n",
    "  'contentLocation',\n",
    "  'availabilityStarts',\n",
    "  'availabilityEnds',\n",
    "  'starRating',\n",
    "  'deathPlace',\n",
    "  'publication',\n",
    "  'maximumAttendeeCapacity',\n",
    "  'remainingAttendeeCapacity',\n",
    "  'funder',\n",
    "  'industry',\n",
    "    'name',\n",
    "    'audience'\n",
    "]\n",
    "\n",
    "training_set = training_set.loc[~training_set['relation_label'].isin(exclude)]\n",
    "training_set = training_set.loc[training_set['density'] >= 10 ]\n",
    "\n",
    "validation_set = validation_set.loc[~validation_set['relation_label'].isin(exclude)]\n",
    "validation_set = validation_set.loc[validation_set['density'] >= 10 ]\n",
    "\n",
    "testing_set = testing_set.loc[~testing_set['relation_label'].isin(exclude)]\n",
    "testing_set = testing_set.loc[testing_set['density'] >= 10 ]"
   ]
  },
  {
   "cell_type": "code",
   "execution_count": null,
   "id": "8022b718",
   "metadata": {},
   "outputs": [],
   "source": [
    "with open('output-data/relation_vocab.txt', 'a') as file:\n",
    "    i = 0\n",
    "    for label in testing_set['relation_label'].unique():\n",
    "        file.write(str(i)+ '\\t' + label +'\\n')\n",
    "        i += 1"
   ]
  },
  {
   "cell_type": "markdown",
   "id": "6bed6c5d",
   "metadata": {},
   "source": [
    "### Create small subset of training set"
   ]
  },
  {
   "cell_type": "code",
   "execution_count": null,
   "id": "720ced72",
   "metadata": {},
   "outputs": [],
   "source": [
    "grouped_by_table = dataset.groupby(['file_name'])['relation_label'].apply(','.join).reset_index()\n",
    "grouped_by_table"
   ]
  },
  {
   "cell_type": "code",
   "execution_count": null,
   "id": "a3efffd7",
   "metadata": {},
   "outputs": [],
   "source": [
    "X = grouped_by_table[[\"file_name\"]].values"
   ]
  },
  {
   "cell_type": "code",
   "execution_count": null,
   "id": "887a8fe1",
   "metadata": {},
   "outputs": [],
   "source": [
    "types_file = open(\"output-data/relation_vocab.txt\", 'r')\n",
    "all_labels = [line.replace('\\n', '').split('\\t')[1] for line in types_file.readlines()]"
   ]
  },
  {
   "cell_type": "code",
   "execution_count": null,
   "id": "0abfecc7",
   "metadata": {},
   "outputs": [],
   "source": [
    "y = np.zeros(shape=(33679, 180)) #encoded labels"
   ]
  },
  {
   "cell_type": "code",
   "execution_count": null,
   "id": "74a2f28d",
   "metadata": {},
   "outputs": [],
   "source": [
    "for index, row in grouped_by_table.iterrows():\n",
    "    table_labels = row['relation_label'].split(',')\n",
    "    count = 0\n",
    "    \n",
    "    for label in all_labels:\n",
    "        if label in table_labels:\n",
    "            y[index][count] = 1\n",
    "        else:\n",
    "            y[index][count] = 0\n",
    "        count += 1"
   ]
  },
  {
   "cell_type": "code",
   "execution_count": null,
   "id": "807ba3cf",
   "metadata": {},
   "outputs": [],
   "source": [
    "X_rest, y_rest, X_test, y_test = iterative_train_test_split(X, y, test_size = 0.25)\n",
    "print('Training set length: '+str(len(X_rest)) +', Testing set length: '+ str(len(X_test)))"
   ]
  },
  {
   "cell_type": "code",
   "execution_count": null,
   "id": "87b235e4",
   "metadata": {},
   "outputs": [],
   "source": [
    "#Relation Labels in each set\n",
    "pd.DataFrame({\n",
    "    'train': Counter(str(combination) for row in get_combination_wise_output_matrix(y_rest, order=1) for combination in row),\n",
    "    'test' : Counter(str(combination) for row in get_combination_wise_output_matrix(y_test, order=1) for combination in row)\n",
    "}).T.fillna(0.0)"
   ]
  },
  {
   "cell_type": "code",
   "execution_count": null,
   "id": "9b0632c3",
   "metadata": {},
   "outputs": [],
   "source": [
    "training_tables = [ table[0] for table in X_test ]\n",
    "training_set_small = dataset.loc[dataset['file_name'].isin(training_tables)]\n",
    "training_set_small"
   ]
  },
  {
   "cell_type": "markdown",
   "id": "35042638",
   "metadata": {},
   "source": [
    "### Save splits in files"
   ]
  },
  {
   "cell_type": "code",
   "execution_count": 53,
   "id": "14480c86",
   "metadata": {},
   "outputs": [],
   "source": [
    "training_set.to_csv('output-data/training_set.csv.gz', index=False, compression='gzip')"
   ]
  },
  {
   "cell_type": "code",
   "execution_count": 53,
   "id": "fff6a523",
   "metadata": {},
   "outputs": [],
   "source": [
    "training_set_small.to_csv('output-data/training_set.csv.gz', index=False, compression='gzip')"
   ]
  },
  {
   "cell_type": "code",
   "execution_count": 54,
   "id": "b6a10368",
   "metadata": {},
   "outputs": [],
   "source": [
    "validation_set.to_csv('output-data/validation_set.csv.gz', index=False, compression='gzip')"
   ]
  },
  {
   "cell_type": "code",
   "execution_count": 55,
   "id": "da796365",
   "metadata": {},
   "outputs": [],
   "source": [
    "testing_set.to_csv('output-data/testing_set.csv.gz', index=False, compression='gzip')"
   ]
  },
  {
   "cell_type": "code",
   "execution_count": null,
   "id": "61c1c348",
   "metadata": {},
   "outputs": [],
   "source": []
  }
 ],
 "metadata": {
  "kernelspec": {
   "display_name": "Python 3 (ipykernel)",
   "language": "python",
   "name": "python3"
  },
  "language_info": {
   "codemirror_mode": {
    "name": "ipython",
    "version": 3
   },
   "file_extension": ".py",
   "mimetype": "text/x-python",
   "name": "python",
   "nbconvert_exporter": "python",
   "pygments_lexer": "ipython3",
   "version": "3.9.5"
  }
 },
 "nbformat": 4,
 "nbformat_minor": 5
}
