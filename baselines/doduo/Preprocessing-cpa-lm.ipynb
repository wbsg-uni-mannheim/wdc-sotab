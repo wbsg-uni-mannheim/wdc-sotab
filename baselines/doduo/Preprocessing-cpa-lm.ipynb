{
 "cells": [
  {
   "cell_type": "code",
   "execution_count": 1,
   "id": "b985a4ba",
   "metadata": {},
   "outputs": [],
   "source": [
    "import pandas as pd\n",
    "import re\n",
    "import multiprocessing"
   ]
  },
  {
   "cell_type": "code",
   "execution_count": 2,
   "id": "7bc1156b",
   "metadata": {},
   "outputs": [],
   "source": [
    "# Read the ground truth files for SOTAB\n",
    "# cpa_train_gt = pd.read_csv('data/CPA/CPA_training_gt.csv')\n",
    "# cpa_val_gt = pd.read_csv('data/CPA/CPA_validation_gt.csv')\n",
    "# cpa_test_gt = pd.read_csv('data/CPA/CPA_test_gt.csv')"
   ]
  },
  {
   "cell_type": "code",
   "execution_count": 2,
   "metadata": {},
   "outputs": [],
   "source": [
    "# Read the ground truth files for SOTABv2\n",
    "cpa_train_gt = pd.read_csv('../SOTAB-v2/CPA/sotab_v2_cpa_training_set.csv')\n",
    "cpa_val_gt = pd.read_csv('../SOTAB-v2/CPA/sotab_v2_cpa_validation_set.csv')\n",
    "cpa_test_gt = pd.read_csv('../SOTAB-v2/CPA/sotab_v2_cpa_test_set.csv')"
   ]
  },
  {
   "cell_type": "code",
   "execution_count": 3,
   "id": "bca1a91c",
   "metadata": {},
   "outputs": [],
   "source": [
    "gt = {'train':{}, 'val':{}, 'test':{}}\n",
    "for index, row in cpa_train_gt.iterrows():\n",
    "    \n",
    "    if row['table_name'] not in gt['train']:\n",
    "        gt['train'][row['table_name']] = {}\n",
    "        \n",
    "    gt['train'][row['table_name']][row['column_index']] = row['label']\n",
    "val = {}\n",
    "for index, row in cpa_val_gt.iterrows():\n",
    "    if row['table_name'] not in gt['val']:\n",
    "        gt['val'][row['table_name']] = {} \n",
    "    gt['val'][row['table_name']][row['column_index']] = row['label']\n",
    "    \n",
    "test = {}\n",
    "for index, row in cpa_test_gt.iterrows():\n",
    "    if row['table_name'] not in gt['test']:\n",
    "        gt['test'][row['table_name']] = {}\n",
    "    gt['test'][row['table_name']][row['column_index']] = row['label']"
   ]
  },
  {
   "cell_type": "code",
   "execution_count": 4,
   "id": "05276f3b",
   "metadata": {},
   "outputs": [],
   "source": [
    "type_labels = list(cpa_test_gt[\"label\"].unique())\n",
    "print(len(type_labels))"
   ]
  },
  {
   "cell_type": "code",
   "execution_count": 6,
   "id": "69b528b4",
   "metadata": {},
   "outputs": [],
   "source": [
    "cpa_train_cols = (cpa_train_gt['table_name'] + '|' + cpa_train_gt['column_index'].map(str) + '|' + cpa_train_gt['label']).tolist()\n",
    "cpa_val_cols = (cpa_val_gt['table_name'] + '|' + cpa_val_gt['column_index'].map(str) + '|' + cpa_val_gt['label']).tolist()\n",
    "cpa_test_cols = (cpa_test_gt['table_name'] + '|' + cpa_test_gt['column_index'].map(str) + '|' + cpa_test_gt['label']).tolist() #+ '|' + cpa_test_gt['selection_type']"
   ]
  },
  {
   "cell_type": "code",
   "execution_count": 7,
   "id": "07fdfaaf",
   "metadata": {},
   "outputs": [],
   "source": [
    "#Simple Preprocessing\n",
    "\n",
    "def clean_text(text):\n",
    "    \n",
    "    if(isinstance(text, dict)):\n",
    "        text = ' '.join([ clean_text(v) for k, v in text.items()] )\n",
    "    elif(isinstance(text, list)):\n",
    "        text = map(clean_text, text)\n",
    "        text = ' '.join(text)\n",
    "        \n",
    "    if pd.isnull(text):\n",
    "        return ''\n",
    "    \n",
    "    #Remove excess whitespaces\n",
    "    text = re.sub(' +', ' ', str(text)).strip()\n",
    "    \n",
    "    return text\n"
   ]
  },
  {
   "cell_type": "code",
   "execution_count": 8,
   "id": "31d9739c",
   "metadata": {},
   "outputs": [],
   "source": [
    "# Prepare format of input datasets for Doduo: table_id, [labels], data, label_ids\n",
    "def get_table_column(column):\n",
    "#     try:\n",
    "    file_name, column_index, label = column.split('|') #, sel\n",
    "\n",
    "    #By column\n",
    "    if file_name in cpa_train_gt['table_name'].tolist():\n",
    "        path = '../SOTAB-v2/CPA/Train/'+file_name\n",
    "    elif file_name in cpa_val_gt['table_name'].tolist():\n",
    "        path = '../SOTAB-v2/CPA/Validation/'+file_name\n",
    "    else:\n",
    "        path = '../SOTAB-v2/CPA/Test/'+file_name\n",
    "\n",
    "    df = pd.read_json(path, compression='gzip', lines=True)\n",
    "\n",
    "    y = [0] * len(type_labels)\n",
    "    y[type_labels.index(label)] = 1\n",
    "\n",
    "    return [\n",
    "        file_name, #table_id\n",
    "        column_index, #column_id\n",
    "        [label], #[labels]\n",
    "        clean_text(df.iloc[:, int(column_index)].tolist()), #data\n",
    "        y, #label_ids\n",
    "        column_index\n",
    "    ]"
   ]
  },
  {
   "cell_type": "code",
   "execution_count": 9,
   "id": "faab55e5",
   "metadata": {},
   "outputs": [],
   "source": [
    "pool = multiprocessing.Pool(processes=20)\n",
    "train_result = pool.map(get_table_column, cpa_train_cols)\n",
    "val_result = pool.map(get_table_column, cpa_val_cols)\n",
    "val_result = [val for val in val_result if val ]\n",
    "test_result = pool.map(get_table_column, cpa_test_cols)\n",
    "pool.close()\n",
    "pool.join()"
   ]
  },
  {
   "cell_type": "code",
   "execution_count": 12,
   "id": "1bb04c06",
   "metadata": {},
   "outputs": [],
   "source": [
    "def get_main_column(file_name):\n",
    "    main_col_index = 0\n",
    "    \n",
    "    if file_name in cpa_train_gt['table_name'].tolist():\n",
    "        path = 'SOTAB-v2/CPA/Train/'+file_name\n",
    "    elif file_name in cpa_val_gt['table_name'].tolist():\n",
    "        path = 'SOTAB-v2/CPA/Validation/'+file_name\n",
    "    else:\n",
    "        path = 'SOTAB-v2/CPA/Test/'+file_name\n",
    "    \n",
    "    #Open table\n",
    "    df = pd.read_json(path, compression='gzip', lines=True)\n",
    "    \n",
    "    y = [0] * len(type_labels)\n",
    "\n",
    "    return [\n",
    "        file_name, #table_id\n",
    "        main_col_index, #main column index\n",
    "        [], #[labels]\n",
    "        clean_text(df[main_col_index].tolist()), #data\n",
    "        y, #label_ids\n",
    "        main_col_index\n",
    "    ] "
   ]
  },
  {
   "cell_type": "code",
   "execution_count": 13,
   "id": "8be06a36",
   "metadata": {},
   "outputs": [],
   "source": [
    "pool = multiprocessing.Pool(processes=20)\n",
    "train_main_cols = pool.map(get_main_column, cpa_train_gt['table_name'].unique())\n",
    "val_main_cols = pool.map(get_main_column, cpa_val_gt['table_name'].unique())\n",
    "test_main_cols = pool.map(get_main_column, cpa_test_gt['table_name'].unique())\n",
    "pool.close()\n",
    "pool.join()"
   ]
  },
  {
   "cell_type": "code",
   "execution_count": 14,
   "id": "7fd3da6c",
   "metadata": {},
   "outputs": [],
   "source": [
    "cpa = {}\n",
    "cpa['train'] = pd.DataFrame(train_result + train_main_cols, columns=['table_id', 'column_id', 'labels', 'data', 'label_ids','column_index'])\n",
    "cpa['dev'] = pd.DataFrame(val_result + val_main_cols, columns=['table_id', 'column_id', 'labels', 'data', 'label_ids','column_index'])\n",
    "cpa['test'] = pd.DataFrame(test_result + test_main_cols, columns=['table_id', 'column_id', 'labels', 'data', 'label_ids','column_index'])"
   ]
  },
  {
   "cell_type": "code",
   "execution_count": 16,
   "id": "cf7a09d3",
   "metadata": {},
   "outputs": [],
   "source": [
    "cpa['test']['column_id'] = cpa['test']['column_id'].astype(int)\n",
    "cpa['train']['column_id'] = cpa['train']['column_id'].astype(int)\n",
    "cpa['dev']['column_id'] = cpa['dev']['column_id'].astype(int)"
   ]
  },
  {
   "cell_type": "code",
   "execution_count": null,
   "id": "9f45c69b",
   "metadata": {},
   "outputs": [],
   "source": [
    "# Copy MLB from DODUO provided datasets\n",
    "import pickle\n",
    "with open('data/turl-datasets/table_rel_extraction_serialized.pkl', \"rb\") as f:\n",
    "    train = pickle.load(f)\n",
    "cpa['mlb'] = train['mlb']"
   ]
  },
  {
   "cell_type": "code",
   "execution_count": 79,
   "metadata": {},
   "outputs": [],
   "source": [
    "file_name='data/sotabv2/table_rel_extraction_serialized.pkl'\n",
    "f = open(file_name,'wb')\n",
    "pickle.dump(cpa,f)\n",
    "f.close()"
   ]
  }
 ],
 "metadata": {
  "kernelspec": {
   "display_name": "Python 3 (ipykernel)",
   "language": "python",
   "name": "python3"
  },
  "language_info": {
   "codemirror_mode": {
    "name": "ipython",
    "version": 3
   },
   "file_extension": ".py",
   "mimetype": "text/x-python",
   "name": "python",
   "nbconvert_exporter": "python",
   "pygments_lexer": "ipython3",
   "version": "3.10.9"
  }
 },
 "nbformat": 4,
 "nbformat_minor": 5
}
