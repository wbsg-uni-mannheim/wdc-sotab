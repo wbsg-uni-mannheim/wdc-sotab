{
 "cells": [
  {
   "cell_type": "code",
   "execution_count": 1,
   "id": "85c4a4ef",
   "metadata": {},
   "outputs": [],
   "source": [
    "import os\n",
    "import pandas as pd\n",
    "import numpy as np\n",
    "from collections import Counter\n",
    "from skmultilearn.model_selection import iterative_train_test_split\n",
    "from skmultilearn.model_selection.measures import get_combination_wise_output_matrix"
   ]
  },
  {
   "cell_type": "markdown",
   "id": "1bf86599",
   "metadata": {},
   "source": [
    "## Read the created dataset and attach column values"
   ]
  },
  {
   "cell_type": "code",
   "execution_count": 2,
   "id": "75f02e3d",
   "metadata": {},
   "outputs": [
    {
     "data": {
      "text/html": [
       "<div>\n",
       "<style scoped>\n",
       "    .dataframe tbody tr th:only-of-type {\n",
       "        vertical-align: middle;\n",
       "    }\n",
       "\n",
       "    .dataframe tbody tr th {\n",
       "        vertical-align: top;\n",
       "    }\n",
       "\n",
       "    .dataframe thead th {\n",
       "        text-align: right;\n",
       "    }\n",
       "</style>\n",
       "<table border=\"1\" class=\"dataframe\">\n",
       "  <thead>\n",
       "    <tr style=\"text-align: right;\">\n",
       "      <th></th>\n",
       "      <th>class</th>\n",
       "      <th>column_name</th>\n",
       "      <th>file_name</th>\n",
       "      <th>relation_label</th>\n",
       "      <th>type_label</th>\n",
       "      <th>density</th>\n",
       "      <th>selection_type</th>\n",
       "    </tr>\n",
       "  </thead>\n",
       "  <tbody>\n",
       "    <tr>\n",
       "      <th>0</th>\n",
       "      <td>Product</td>\n",
       "      <td>offers:pricecurrency</td>\n",
       "      <td>Product_corememoriesco.com_September2020.json.gz</td>\n",
       "      <td>priceCurrency</td>\n",
       "      <td>currency</td>\n",
       "      <td>100</td>\n",
       "      <td>Inter Similarity</td>\n",
       "    </tr>\n",
       "    <tr>\n",
       "      <th>1</th>\n",
       "      <td>Product</td>\n",
       "      <td>offers:price</td>\n",
       "      <td>Product_corememoriesco.com_September2020.json.gz</td>\n",
       "      <td>price</td>\n",
       "      <td>price</td>\n",
       "      <td>100</td>\n",
       "      <td>Value Heterogeneity</td>\n",
       "    </tr>\n",
       "    <tr>\n",
       "      <th>2</th>\n",
       "      <td>Event</td>\n",
       "      <td>startdate</td>\n",
       "      <td>Event_davidlohmueller.com_September2020.json.gz</td>\n",
       "      <td>startDate</td>\n",
       "      <td>DateTime</td>\n",
       "      <td>100</td>\n",
       "      <td>Inter Similarity</td>\n",
       "    </tr>\n",
       "    <tr>\n",
       "      <th>3</th>\n",
       "      <td>Event</td>\n",
       "      <td>enddate</td>\n",
       "      <td>Event_davidlohmueller.com_September2020.json.gz</td>\n",
       "      <td>endDate</td>\n",
       "      <td>DateTime</td>\n",
       "      <td>100</td>\n",
       "      <td>Inter Similarity</td>\n",
       "    </tr>\n",
       "    <tr>\n",
       "      <th>4</th>\n",
       "      <td>Product</td>\n",
       "      <td>offers:pricecurrency</td>\n",
       "      <td>Product_winehousegvl.com_September2020.json.gz</td>\n",
       "      <td>priceCurrency</td>\n",
       "      <td>currency</td>\n",
       "      <td>100</td>\n",
       "      <td>Inter Similarity</td>\n",
       "    </tr>\n",
       "    <tr>\n",
       "      <th>...</th>\n",
       "      <td>...</td>\n",
       "      <td>...</td>\n",
       "      <td>...</td>\n",
       "      <td>...</td>\n",
       "      <td>...</td>\n",
       "      <td>...</td>\n",
       "      <td>...</td>\n",
       "    </tr>\n",
       "    <tr>\n",
       "      <th>171993</th>\n",
       "      <td>CreativeWork</td>\n",
       "      <td>author:name</td>\n",
       "      <td>CreativeWork_ywbc.org.uk_September2020.json.gz</td>\n",
       "      <td>author</td>\n",
       "      <td>Person</td>\n",
       "      <td>100</td>\n",
       "      <td>Random</td>\n",
       "    </tr>\n",
       "    <tr>\n",
       "      <th>171994</th>\n",
       "      <td>Event</td>\n",
       "      <td>location:name</td>\n",
       "      <td>Event_kivasports.net_September2020.json.gz</td>\n",
       "      <td>location</td>\n",
       "      <td>Place</td>\n",
       "      <td>95</td>\n",
       "      <td>Random 3</td>\n",
       "    </tr>\n",
       "    <tr>\n",
       "      <th>171995</th>\n",
       "      <td>Event</td>\n",
       "      <td>organizer:email</td>\n",
       "      <td>Event_kivasports.net_September2020.json.gz</td>\n",
       "      <td>email</td>\n",
       "      <td>email</td>\n",
       "      <td>72</td>\n",
       "      <td>Random 3</td>\n",
       "    </tr>\n",
       "    <tr>\n",
       "      <th>171996</th>\n",
       "      <td>SportsEvent</td>\n",
       "      <td>name</td>\n",
       "      <td>SportsEvent_blastertagassociation.com_Septembe...</td>\n",
       "      <td>name</td>\n",
       "      <td>SportsEvent/name</td>\n",
       "      <td>100</td>\n",
       "      <td>Random 2</td>\n",
       "    </tr>\n",
       "    <tr>\n",
       "      <th>171997</th>\n",
       "      <td>SportsEvent</td>\n",
       "      <td>competitor:name</td>\n",
       "      <td>SportsEvent_blastertagassociation.com_Septembe...</td>\n",
       "      <td>competitor</td>\n",
       "      <td>SportsTeam</td>\n",
       "      <td>100</td>\n",
       "      <td>Random 2</td>\n",
       "    </tr>\n",
       "  </tbody>\n",
       "</table>\n",
       "<p>171998 rows × 7 columns</p>\n",
       "</div>"
      ],
      "text/plain": [
       "               class           column_name  \\\n",
       "0            Product  offers:pricecurrency   \n",
       "1            Product          offers:price   \n",
       "2              Event             startdate   \n",
       "3              Event               enddate   \n",
       "4            Product  offers:pricecurrency   \n",
       "...              ...                   ...   \n",
       "171993  CreativeWork           author:name   \n",
       "171994         Event         location:name   \n",
       "171995         Event       organizer:email   \n",
       "171996   SportsEvent                  name   \n",
       "171997   SportsEvent       competitor:name   \n",
       "\n",
       "                                                file_name relation_label  \\\n",
       "0        Product_corememoriesco.com_September2020.json.gz  priceCurrency   \n",
       "1        Product_corememoriesco.com_September2020.json.gz          price   \n",
       "2         Event_davidlohmueller.com_September2020.json.gz      startDate   \n",
       "3         Event_davidlohmueller.com_September2020.json.gz        endDate   \n",
       "4          Product_winehousegvl.com_September2020.json.gz  priceCurrency   \n",
       "...                                                   ...            ...   \n",
       "171993     CreativeWork_ywbc.org.uk_September2020.json.gz         author   \n",
       "171994         Event_kivasports.net_September2020.json.gz       location   \n",
       "171995         Event_kivasports.net_September2020.json.gz          email   \n",
       "171996  SportsEvent_blastertagassociation.com_Septembe...           name   \n",
       "171997  SportsEvent_blastertagassociation.com_Septembe...     competitor   \n",
       "\n",
       "              type_label  density       selection_type  \n",
       "0               currency      100     Inter Similarity  \n",
       "1                  price      100  Value Heterogeneity  \n",
       "2               DateTime      100     Inter Similarity  \n",
       "3               DateTime      100     Inter Similarity  \n",
       "4               currency      100     Inter Similarity  \n",
       "...                  ...      ...                  ...  \n",
       "171993            Person      100               Random  \n",
       "171994             Place       95             Random 3  \n",
       "171995             email       72             Random 3  \n",
       "171996  SportsEvent/name      100             Random 2  \n",
       "171997        SportsTeam      100             Random 2  \n",
       "\n",
       "[171998 rows x 7 columns]"
      ]
     },
     "execution_count": 2,
     "metadata": {},
     "output_type": "execute_result"
    }
   ],
   "source": [
    "dataset = pd.read_csv('output-data/cta-dataset/dataset_cta.csv')\n",
    "dataset"
   ]
  },
  {
   "cell_type": "code",
   "execution_count": 3,
   "id": "be199ef4",
   "metadata": {},
   "outputs": [],
   "source": [
    "col_table = (dataset['column_name']+'|'+dataset['file_name']).tolist()"
   ]
  },
  {
   "cell_type": "code",
   "execution_count": 4,
   "id": "cbc7b91e",
   "metadata": {},
   "outputs": [
    {
     "data": {
      "text/plain": [
       "'offers:pricecurrency|Product_corememoriesco.com_September2020.json.gz'"
      ]
     },
     "execution_count": 4,
     "metadata": {},
     "output_type": "execute_result"
    }
   ],
   "source": [
    "col_table[0]"
   ]
  },
  {
   "cell_type": "markdown",
   "id": "915d5aa5",
   "metadata": {},
   "source": [
    "### Add value columns"
   ]
  },
  {
   "cell_type": "code",
   "execution_count": 5,
   "id": "0167f893",
   "metadata": {},
   "outputs": [],
   "source": [
    "dir_ = 'output-data/expanded-tables/'"
   ]
  },
  {
   "cell_type": "code",
   "execution_count": 6,
   "id": "8cd529fb",
   "metadata": {},
   "outputs": [],
   "source": [
    "#Returns values of textual columns\n",
    "def get_values(col_table_name):\n",
    "    column_name, file_name = col_table_name.split('|')\n",
    "    \n",
    "    file = dir_ + file_name\n",
    "    \n",
    "    #Open table\n",
    "    df = pd.read_json(file, compression='gzip', lines=True)\n",
    "           \n",
    "    return df[column_name].tolist()"
   ]
  },
  {
   "cell_type": "code",
   "execution_count": 7,
   "id": "b5fd9db9",
   "metadata": {},
   "outputs": [],
   "source": [
    "pool = multiprocessing.Pool(processes=25)\n",
    "values = pool.map(get_values, col_table)\n",
    "pool.close()\n",
    "pool.join()"
   ]
  },
  {
   "cell_type": "code",
   "execution_count": 8,
   "id": "bed2a087",
   "metadata": {},
   "outputs": [
    {
     "data": {
      "text/html": [
       "<div>\n",
       "<style scoped>\n",
       "    .dataframe tbody tr th:only-of-type {\n",
       "        vertical-align: middle;\n",
       "    }\n",
       "\n",
       "    .dataframe tbody tr th {\n",
       "        vertical-align: top;\n",
       "    }\n",
       "\n",
       "    .dataframe thead th {\n",
       "        text-align: right;\n",
       "    }\n",
       "</style>\n",
       "<table border=\"1\" class=\"dataframe\">\n",
       "  <thead>\n",
       "    <tr style=\"text-align: right;\">\n",
       "      <th></th>\n",
       "      <th>class</th>\n",
       "      <th>column_name</th>\n",
       "      <th>file_name</th>\n",
       "      <th>relation_label</th>\n",
       "      <th>type_label</th>\n",
       "      <th>density</th>\n",
       "      <th>selection_type</th>\n",
       "      <th>values</th>\n",
       "    </tr>\n",
       "  </thead>\n",
       "  <tbody>\n",
       "    <tr>\n",
       "      <th>0</th>\n",
       "      <td>Product</td>\n",
       "      <td>offers:pricecurrency</td>\n",
       "      <td>Product_corememoriesco.com_September2020.json.gz</td>\n",
       "      <td>priceCurrency</td>\n",
       "      <td>currency</td>\n",
       "      <td>100</td>\n",
       "      <td>Inter Similarity</td>\n",
       "      <td>[USD, USD, USD, USD, USD, USD, USD, USD, USD, ...</td>\n",
       "    </tr>\n",
       "    <tr>\n",
       "      <th>1</th>\n",
       "      <td>Product</td>\n",
       "      <td>offers:price</td>\n",
       "      <td>Product_corememoriesco.com_September2020.json.gz</td>\n",
       "      <td>price</td>\n",
       "      <td>price</td>\n",
       "      <td>100</td>\n",
       "      <td>Value Heterogeneity</td>\n",
       "      <td>[7.25, 24.95, 26.95, 24.95, 39.95, 24.95, 26.9...</td>\n",
       "    </tr>\n",
       "    <tr>\n",
       "      <th>2</th>\n",
       "      <td>Event</td>\n",
       "      <td>startdate</td>\n",
       "      <td>Event_davidlohmueller.com_September2020.json.gz</td>\n",
       "      <td>startDate</td>\n",
       "      <td>DateTime</td>\n",
       "      <td>100</td>\n",
       "      <td>Inter Similarity</td>\n",
       "      <td>[2021-05-04T19:00:00+01:00, 2021-03-07T17:30:0...</td>\n",
       "    </tr>\n",
       "    <tr>\n",
       "      <th>3</th>\n",
       "      <td>Event</td>\n",
       "      <td>enddate</td>\n",
       "      <td>Event_davidlohmueller.com_September2020.json.gz</td>\n",
       "      <td>endDate</td>\n",
       "      <td>DateTime</td>\n",
       "      <td>100</td>\n",
       "      <td>Inter Similarity</td>\n",
       "      <td>[2021-05-04T21:30:00+01:00, 2021-03-07T19:00:0...</td>\n",
       "    </tr>\n",
       "    <tr>\n",
       "      <th>4</th>\n",
       "      <td>Product</td>\n",
       "      <td>offers:pricecurrency</td>\n",
       "      <td>Product_winehousegvl.com_September2020.json.gz</td>\n",
       "      <td>priceCurrency</td>\n",
       "      <td>currency</td>\n",
       "      <td>100</td>\n",
       "      <td>Inter Similarity</td>\n",
       "      <td>[USD, USD, USD, USD, USD, USD, USD, USD, USD, ...</td>\n",
       "    </tr>\n",
       "    <tr>\n",
       "      <th>...</th>\n",
       "      <td>...</td>\n",
       "      <td>...</td>\n",
       "      <td>...</td>\n",
       "      <td>...</td>\n",
       "      <td>...</td>\n",
       "      <td>...</td>\n",
       "      <td>...</td>\n",
       "      <td>...</td>\n",
       "    </tr>\n",
       "    <tr>\n",
       "      <th>171993</th>\n",
       "      <td>CreativeWork</td>\n",
       "      <td>author:name</td>\n",
       "      <td>CreativeWork_ywbc.org.uk_September2020.json.gz</td>\n",
       "      <td>author</td>\n",
       "      <td>Person</td>\n",
       "      <td>100</td>\n",
       "      <td>Random</td>\n",
       "      <td>[Rev Richard Alford, Phil Jackman, Phil Jackma...</td>\n",
       "    </tr>\n",
       "    <tr>\n",
       "      <th>171994</th>\n",
       "      <td>Event</td>\n",
       "      <td>location:name</td>\n",
       "      <td>Event_kivasports.net_September2020.json.gz</td>\n",
       "      <td>location</td>\n",
       "      <td>Place</td>\n",
       "      <td>95</td>\n",
       "      <td>Random 3</td>\n",
       "      <td>[KIVA Sports Center, KIVA Sports Center, None,...</td>\n",
       "    </tr>\n",
       "    <tr>\n",
       "      <th>171995</th>\n",
       "      <td>Event</td>\n",
       "      <td>organizer:email</td>\n",
       "      <td>Event_kivasports.net_September2020.json.gz</td>\n",
       "      <td>email</td>\n",
       "      <td>email</td>\n",
       "      <td>72</td>\n",
       "      <td>Random 3</td>\n",
       "      <td>[&amp;#99;ourtne&amp;#121;&amp;#64;k&amp;#105;&amp;#118;as&amp;#112;&amp;#...</td>\n",
       "    </tr>\n",
       "    <tr>\n",
       "      <th>171996</th>\n",
       "      <td>SportsEvent</td>\n",
       "      <td>name</td>\n",
       "      <td>SportsEvent_blastertagassociation.com_Septembe...</td>\n",
       "      <td>name</td>\n",
       "      <td>SportsEvent/name</td>\n",
       "      <td>100</td>\n",
       "      <td>Random 2</td>\n",
       "      <td>[Fluffy Rainbow Unicorn Soldiers vs. Doomsday ...</td>\n",
       "    </tr>\n",
       "    <tr>\n",
       "      <th>171997</th>\n",
       "      <td>SportsEvent</td>\n",
       "      <td>competitor:name</td>\n",
       "      <td>SportsEvent_blastertagassociation.com_Septembe...</td>\n",
       "      <td>competitor</td>\n",
       "      <td>SportsTeam</td>\n",
       "      <td>100</td>\n",
       "      <td>Random 2</td>\n",
       "      <td>[[Fluffy Rainbow Unicorn Soldiers, Doomsday], ...</td>\n",
       "    </tr>\n",
       "  </tbody>\n",
       "</table>\n",
       "<p>171998 rows × 8 columns</p>\n",
       "</div>"
      ],
      "text/plain": [
       "               class           column_name  \\\n",
       "0            Product  offers:pricecurrency   \n",
       "1            Product          offers:price   \n",
       "2              Event             startdate   \n",
       "3              Event               enddate   \n",
       "4            Product  offers:pricecurrency   \n",
       "...              ...                   ...   \n",
       "171993  CreativeWork           author:name   \n",
       "171994         Event         location:name   \n",
       "171995         Event       organizer:email   \n",
       "171996   SportsEvent                  name   \n",
       "171997   SportsEvent       competitor:name   \n",
       "\n",
       "                                                file_name relation_label  \\\n",
       "0        Product_corememoriesco.com_September2020.json.gz  priceCurrency   \n",
       "1        Product_corememoriesco.com_September2020.json.gz          price   \n",
       "2         Event_davidlohmueller.com_September2020.json.gz      startDate   \n",
       "3         Event_davidlohmueller.com_September2020.json.gz        endDate   \n",
       "4          Product_winehousegvl.com_September2020.json.gz  priceCurrency   \n",
       "...                                                   ...            ...   \n",
       "171993     CreativeWork_ywbc.org.uk_September2020.json.gz         author   \n",
       "171994         Event_kivasports.net_September2020.json.gz       location   \n",
       "171995         Event_kivasports.net_September2020.json.gz          email   \n",
       "171996  SportsEvent_blastertagassociation.com_Septembe...           name   \n",
       "171997  SportsEvent_blastertagassociation.com_Septembe...     competitor   \n",
       "\n",
       "              type_label  density       selection_type  \\\n",
       "0               currency      100     Inter Similarity   \n",
       "1                  price      100  Value Heterogeneity   \n",
       "2               DateTime      100     Inter Similarity   \n",
       "3               DateTime      100     Inter Similarity   \n",
       "4               currency      100     Inter Similarity   \n",
       "...                  ...      ...                  ...   \n",
       "171993            Person      100               Random   \n",
       "171994             Place       95             Random 3   \n",
       "171995             email       72             Random 3   \n",
       "171996  SportsEvent/name      100             Random 2   \n",
       "171997        SportsTeam      100             Random 2   \n",
       "\n",
       "                                                   values  \n",
       "0       [USD, USD, USD, USD, USD, USD, USD, USD, USD, ...  \n",
       "1       [7.25, 24.95, 26.95, 24.95, 39.95, 24.95, 26.9...  \n",
       "2       [2021-05-04T19:00:00+01:00, 2021-03-07T17:30:0...  \n",
       "3       [2021-05-04T21:30:00+01:00, 2021-03-07T19:00:0...  \n",
       "4       [USD, USD, USD, USD, USD, USD, USD, USD, USD, ...  \n",
       "...                                                   ...  \n",
       "171993  [Rev Richard Alford, Phil Jackman, Phil Jackma...  \n",
       "171994  [KIVA Sports Center, KIVA Sports Center, None,...  \n",
       "171995  [&#99;ourtne&#121;&#64;k&#105;&#118;as&#112;&#...  \n",
       "171996  [Fluffy Rainbow Unicorn Soldiers vs. Doomsday ...  \n",
       "171997  [[Fluffy Rainbow Unicorn Soldiers, Doomsday], ...  \n",
       "\n",
       "[171998 rows x 8 columns]"
      ]
     },
     "execution_count": 8,
     "metadata": {},
     "output_type": "execute_result"
    }
   ],
   "source": [
    "dataset['values'] = values\n",
    "dataset"
   ]
  },
  {
   "cell_type": "markdown",
   "id": "bddc8ca3",
   "metadata": {},
   "source": [
    "## Create training, validation and test split"
   ]
  },
  {
   "cell_type": "code",
   "execution_count": 15,
   "id": "b16e531f",
   "metadata": {},
   "outputs": [
    {
     "data": {
      "text/html": [
       "<div>\n",
       "<style scoped>\n",
       "    .dataframe tbody tr th:only-of-type {\n",
       "        vertical-align: middle;\n",
       "    }\n",
       "\n",
       "    .dataframe tbody tr th {\n",
       "        vertical-align: top;\n",
       "    }\n",
       "\n",
       "    .dataframe thead th {\n",
       "        text-align: right;\n",
       "    }\n",
       "</style>\n",
       "<table border=\"1\" class=\"dataframe\">\n",
       "  <thead>\n",
       "    <tr style=\"text-align: right;\">\n",
       "      <th></th>\n",
       "      <th>file_name</th>\n",
       "      <th>type_label</th>\n",
       "    </tr>\n",
       "  </thead>\n",
       "  <tbody>\n",
       "    <tr>\n",
       "      <th>0</th>\n",
       "      <td>Book_1000kitap.com_September2020.json.gz</td>\n",
       "      <td>Integer,Language,BookFormatType</td>\n",
       "    </tr>\n",
       "    <tr>\n",
       "      <th>1</th>\n",
       "      <td>Book_100bestbooks.ru_September2020.json.gz</td>\n",
       "      <td>Text,Text,Person</td>\n",
       "    </tr>\n",
       "    <tr>\n",
       "      <th>2</th>\n",
       "      <td>Book_103.92.226.18_September2020.json.gz</td>\n",
       "      <td>BookFormatType,Text,Book/name,Person,Identifie...</td>\n",
       "    </tr>\n",
       "    <tr>\n",
       "      <th>3</th>\n",
       "      <td>Book_11x17.pt_September2020.json.gz</td>\n",
       "      <td>Date,Book/name,IdentifierAT,Integer</td>\n",
       "    </tr>\n",
       "    <tr>\n",
       "      <th>4</th>\n",
       "      <td>Book_12baliv.com.ua_September2020.json.gz</td>\n",
       "      <td>Number,Number,Book/name,Person,Language,Organi...</td>\n",
       "    </tr>\n",
       "    <tr>\n",
       "      <th>...</th>\n",
       "      <td>...</td>\n",
       "      <td>...</td>\n",
       "    </tr>\n",
       "    <tr>\n",
       "      <th>41333</th>\n",
       "      <td>TVEpisode_yle.fi_September2020.json.gz</td>\n",
       "      <td>Text,DateTime,CreativeWorkSeries,TVEpisode/name</td>\n",
       "    </tr>\n",
       "    <tr>\n",
       "      <th>41334</th>\n",
       "      <td>TVEpisode_zavis.online_September2020.json.gz</td>\n",
       "      <td>TVEpisode/name,Text,DateTime,Integer,Person,Text</td>\n",
       "    </tr>\n",
       "    <tr>\n",
       "      <th>41335</th>\n",
       "      <td>TVEpisode_zazangels.com_September2020.json.gz</td>\n",
       "      <td>TVEpisode/name,Duration,Text,URL,Person,Creati...</td>\n",
       "    </tr>\n",
       "    <tr>\n",
       "      <th>41336</th>\n",
       "      <td>TVEpisode_zebrahead.org_September2020.json.gz</td>\n",
       "      <td>TVEpisode/name,Text,URL,CreativeWorkSeries,Dur...</td>\n",
       "    </tr>\n",
       "    <tr>\n",
       "      <th>41337</th>\n",
       "      <td>TVEpisode_zoids-col.net_September2020.json.gz</td>\n",
       "      <td>TVEpisode/name,Text,URL,CreativeWorkSeries,Per...</td>\n",
       "    </tr>\n",
       "  </tbody>\n",
       "</table>\n",
       "<p>41338 rows × 2 columns</p>\n",
       "</div>"
      ],
      "text/plain": [
       "                                           file_name  \\\n",
       "0           Book_1000kitap.com_September2020.json.gz   \n",
       "1         Book_100bestbooks.ru_September2020.json.gz   \n",
       "2           Book_103.92.226.18_September2020.json.gz   \n",
       "3                Book_11x17.pt_September2020.json.gz   \n",
       "4          Book_12baliv.com.ua_September2020.json.gz   \n",
       "...                                              ...   \n",
       "41333         TVEpisode_yle.fi_September2020.json.gz   \n",
       "41334   TVEpisode_zavis.online_September2020.json.gz   \n",
       "41335  TVEpisode_zazangels.com_September2020.json.gz   \n",
       "41336  TVEpisode_zebrahead.org_September2020.json.gz   \n",
       "41337  TVEpisode_zoids-col.net_September2020.json.gz   \n",
       "\n",
       "                                              type_label  \n",
       "0                        Integer,Language,BookFormatType  \n",
       "1                                       Text,Text,Person  \n",
       "2      BookFormatType,Text,Book/name,Person,Identifie...  \n",
       "3                    Date,Book/name,IdentifierAT,Integer  \n",
       "4      Number,Number,Book/name,Person,Language,Organi...  \n",
       "...                                                  ...  \n",
       "41333    Text,DateTime,CreativeWorkSeries,TVEpisode/name  \n",
       "41334   TVEpisode/name,Text,DateTime,Integer,Person,Text  \n",
       "41335  TVEpisode/name,Duration,Text,URL,Person,Creati...  \n",
       "41336  TVEpisode/name,Text,URL,CreativeWorkSeries,Dur...  \n",
       "41337  TVEpisode/name,Text,URL,CreativeWorkSeries,Per...  \n",
       "\n",
       "[41338 rows x 2 columns]"
      ]
     },
     "execution_count": 15,
     "metadata": {},
     "output_type": "execute_result"
    }
   ],
   "source": [
    "grouped_by_table = dataset.groupby(['file_name'])['type_label'].apply(','.join).reset_index()\n",
    "grouped_by_table"
   ]
  },
  {
   "cell_type": "code",
   "execution_count": 16,
   "id": "f7ea1673",
   "metadata": {},
   "outputs": [],
   "source": [
    "X = grouped_by_table[[\"file_name\"]].values"
   ]
  },
  {
   "cell_type": "markdown",
   "id": "3302a60f",
   "metadata": {},
   "source": [
    "### One hot encoding of CTA labels"
   ]
  },
  {
   "cell_type": "code",
   "execution_count": 17,
   "id": "b7de1e41",
   "metadata": {},
   "outputs": [
    {
     "data": {
      "text/plain": [
       "97"
      ]
     },
     "execution_count": 17,
     "metadata": {},
     "output_type": "execute_result"
    }
   ],
   "source": [
    "all_labels = dataset['type_label'].unique()\n",
    "len(all_labels)"
   ]
  },
  {
   "cell_type": "code",
   "execution_count": 19,
   "id": "84a1667d",
   "metadata": {},
   "outputs": [],
   "source": [
    "y = np.zeros(shape=(len(grouped_by_table['file_name'].tolist()), len(all_labels))) #encoded labels"
   ]
  },
  {
   "cell_type": "code",
   "execution_count": 20,
   "id": "cf9597d9",
   "metadata": {},
   "outputs": [],
   "source": [
    "for index, row in grouped_by_table.iterrows():\n",
    "    table_labels = row['type_label'].split(',')\n",
    "    count = 0\n",
    "    \n",
    "    for label in all_labels:\n",
    "        if label in table_labels:\n",
    "            y[index][count] = 1\n",
    "        else:\n",
    "            y[index][count] = 0\n",
    "        count += 1"
   ]
  },
  {
   "cell_type": "code",
   "execution_count": 21,
   "id": "769ae530",
   "metadata": {},
   "outputs": [
    {
     "data": {
      "text/plain": [
       "array([['Book_1000kitap.com_September2020.json.gz'],\n",
       "       ['Book_100bestbooks.ru_September2020.json.gz'],\n",
       "       ['Book_103.92.226.18_September2020.json.gz'],\n",
       "       ...,\n",
       "       ['TVEpisode_zazangels.com_September2020.json.gz'],\n",
       "       ['TVEpisode_zebrahead.org_September2020.json.gz'],\n",
       "       ['TVEpisode_zoids-col.net_September2020.json.gz']], dtype=object)"
      ]
     },
     "execution_count": 21,
     "metadata": {},
     "output_type": "execute_result"
    }
   ],
   "source": [
    "X"
   ]
  },
  {
   "cell_type": "code",
   "execution_count": 22,
   "id": "cbe693e1",
   "metadata": {},
   "outputs": [
    {
     "data": {
      "text/plain": [
       "array([[0., 0., 0., ..., 0., 0., 0.],\n",
       "       [0., 0., 0., ..., 0., 0., 0.],\n",
       "       [0., 0., 0., ..., 0., 0., 0.],\n",
       "       ...,\n",
       "       [0., 0., 0., ..., 0., 0., 0.],\n",
       "       [0., 0., 0., ..., 0., 0., 0.],\n",
       "       [0., 0., 0., ..., 0., 0., 0.]])"
      ]
     },
     "execution_count": 22,
     "metadata": {},
     "output_type": "execute_result"
    }
   ],
   "source": [
    "y"
   ]
  },
  {
   "cell_type": "code",
   "execution_count": 23,
   "id": "b754a4d9",
   "metadata": {
    "scrolled": false
   },
   "outputs": [
    {
     "name": "stdout",
     "output_type": "stream",
     "text": [
      "Training set length: 32772, Testing set length: 8566\n"
     ]
    }
   ],
   "source": [
    "X_train, y_train, X_test, y_test = iterative_train_test_split(X, y, test_size = 0.2)\n",
    "print('Training set length: '+str(len(X_train)) +', Testing set length: '+ str(len(X_test)))"
   ]
  },
  {
   "cell_type": "code",
   "execution_count": 24,
   "id": "3b7a6727",
   "metadata": {},
   "outputs": [
    {
     "data": {
      "text/html": [
       "<div>\n",
       "<style scoped>\n",
       "    .dataframe tbody tr th:only-of-type {\n",
       "        vertical-align: middle;\n",
       "    }\n",
       "\n",
       "    .dataframe tbody tr th {\n",
       "        vertical-align: top;\n",
       "    }\n",
       "\n",
       "    .dataframe thead th {\n",
       "        text-align: right;\n",
       "    }\n",
       "</style>\n",
       "<table border=\"1\" class=\"dataframe\">\n",
       "  <thead>\n",
       "    <tr style=\"text-align: right;\">\n",
       "      <th></th>\n",
       "      <th>(57,)</th>\n",
       "      <th>(18,)</th>\n",
       "      <th>(15,)</th>\n",
       "      <th>(21,)</th>\n",
       "      <th>(66,)</th>\n",
       "      <th>(34,)</th>\n",
       "      <th>(27,)</th>\n",
       "      <th>(4,)</th>\n",
       "      <th>(78,)</th>\n",
       "      <th>(1,)</th>\n",
       "      <th>...</th>\n",
       "      <th>(88,)</th>\n",
       "      <th>(52,)</th>\n",
       "      <th>(53,)</th>\n",
       "      <th>(39,)</th>\n",
       "      <th>(32,)</th>\n",
       "      <th>(60,)</th>\n",
       "      <th>(54,)</th>\n",
       "      <th>(55,)</th>\n",
       "      <th>(86,)</th>\n",
       "      <th>(83,)</th>\n",
       "    </tr>\n",
       "  </thead>\n",
       "  <tbody>\n",
       "    <tr>\n",
       "      <th>train</th>\n",
       "      <td>823</td>\n",
       "      <td>3592</td>\n",
       "      <td>2876</td>\n",
       "      <td>1577</td>\n",
       "      <td>639</td>\n",
       "      <td>3719</td>\n",
       "      <td>2767</td>\n",
       "      <td>8571</td>\n",
       "      <td>620</td>\n",
       "      <td>4194</td>\n",
       "      <td>...</td>\n",
       "      <td>86</td>\n",
       "      <td>310</td>\n",
       "      <td>1066</td>\n",
       "      <td>485</td>\n",
       "      <td>630</td>\n",
       "      <td>515</td>\n",
       "      <td>1116</td>\n",
       "      <td>666</td>\n",
       "      <td>241</td>\n",
       "      <td>369</td>\n",
       "    </tr>\n",
       "    <tr>\n",
       "      <th>test</th>\n",
       "      <td>326</td>\n",
       "      <td>1112</td>\n",
       "      <td>790</td>\n",
       "      <td>430</td>\n",
       "      <td>160</td>\n",
       "      <td>1065</td>\n",
       "      <td>830</td>\n",
       "      <td>2622</td>\n",
       "      <td>158</td>\n",
       "      <td>1049</td>\n",
       "      <td>...</td>\n",
       "      <td>22</td>\n",
       "      <td>78</td>\n",
       "      <td>266</td>\n",
       "      <td>132</td>\n",
       "      <td>208</td>\n",
       "      <td>167</td>\n",
       "      <td>279</td>\n",
       "      <td>167</td>\n",
       "      <td>59</td>\n",
       "      <td>92</td>\n",
       "    </tr>\n",
       "  </tbody>\n",
       "</table>\n",
       "<p>2 rows × 97 columns</p>\n",
       "</div>"
      ],
      "text/plain": [
       "       (57,)  (18,)  (15,)  (21,)  (66,)  (34,)  (27,)  (4,)  (78,)  (1,)  \\\n",
       "train    823   3592   2876   1577    639   3719   2767  8571    620  4194   \n",
       "test     326   1112    790    430    160   1065    830  2622    158  1049   \n",
       "\n",
       "       ...  (88,)  (52,)  (53,)  (39,)  (32,)  (60,)  (54,)  (55,)  (86,)  \\\n",
       "train  ...     86    310   1066    485    630    515   1116    666    241   \n",
       "test   ...     22     78    266    132    208    167    279    167     59   \n",
       "\n",
       "       (83,)  \n",
       "train    369  \n",
       "test      92  \n",
       "\n",
       "[2 rows x 97 columns]"
      ]
     },
     "execution_count": 24,
     "metadata": {},
     "output_type": "execute_result"
    }
   ],
   "source": [
    "#Relation Labels in each set\n",
    "pd.DataFrame({\n",
    "    'train': Counter(str(combination) for row in get_combination_wise_output_matrix(y_train, order=1) for combination in row),\n",
    "    'test' : Counter(str(combination) for row in get_combination_wise_output_matrix(y_test, order=1) for combination in row)\n",
    "}).T.fillna(0.0)"
   ]
  },
  {
   "cell_type": "markdown",
   "id": "ee24143b",
   "metadata": {},
   "source": [
    "### Split testing set into validation and testing"
   ]
  },
  {
   "cell_type": "code",
   "execution_count": 25,
   "id": "9904e013",
   "metadata": {},
   "outputs": [
    {
     "name": "stdout",
     "output_type": "stream",
     "text": [
      "Validation set length: 4253, Testing set length: 4313\n"
     ]
    }
   ],
   "source": [
    "X_val, y_val, X_test, y_test = iterative_train_test_split(X_test, y_test, test_size = 0.5)\n",
    "print('Validation set length: '+str(len(X_val)) +', Testing set length: '+ str(len(X_test)))"
   ]
  },
  {
   "cell_type": "code",
   "execution_count": 26,
   "id": "67c4b1b2",
   "metadata": {},
   "outputs": [
    {
     "data": {
      "text/html": [
       "<div>\n",
       "<style scoped>\n",
       "    .dataframe tbody tr th:only-of-type {\n",
       "        vertical-align: middle;\n",
       "    }\n",
       "\n",
       "    .dataframe tbody tr th {\n",
       "        vertical-align: top;\n",
       "    }\n",
       "\n",
       "    .dataframe thead th {\n",
       "        text-align: right;\n",
       "    }\n",
       "</style>\n",
       "<table border=\"1\" class=\"dataframe\">\n",
       "  <thead>\n",
       "    <tr style=\"text-align: right;\">\n",
       "      <th></th>\n",
       "      <th>(18,)</th>\n",
       "      <th>(66,)</th>\n",
       "      <th>(78,)</th>\n",
       "      <th>(19,)</th>\n",
       "      <th>(15,)</th>\n",
       "      <th>(57,)</th>\n",
       "      <th>(21,)</th>\n",
       "      <th>(34,)</th>\n",
       "      <th>(27,)</th>\n",
       "      <th>(1,)</th>\n",
       "      <th>...</th>\n",
       "      <th>(88,)</th>\n",
       "      <th>(32,)</th>\n",
       "      <th>(53,)</th>\n",
       "      <th>(52,)</th>\n",
       "      <th>(39,)</th>\n",
       "      <th>(60,)</th>\n",
       "      <th>(54,)</th>\n",
       "      <th>(55,)</th>\n",
       "      <th>(86,)</th>\n",
       "      <th>(83,)</th>\n",
       "    </tr>\n",
       "  </thead>\n",
       "  <tbody>\n",
       "    <tr>\n",
       "      <th>val</th>\n",
       "      <td>548</td>\n",
       "      <td>80</td>\n",
       "      <td>78</td>\n",
       "      <td>397</td>\n",
       "      <td>390</td>\n",
       "      <td>161</td>\n",
       "      <td>208</td>\n",
       "      <td>524</td>\n",
       "      <td>402</td>\n",
       "      <td>525</td>\n",
       "      <td>...</td>\n",
       "      <td>11</td>\n",
       "      <td>99</td>\n",
       "      <td>133</td>\n",
       "      <td>39</td>\n",
       "      <td>64</td>\n",
       "      <td>91</td>\n",
       "      <td>139</td>\n",
       "      <td>84</td>\n",
       "      <td>29</td>\n",
       "      <td>46</td>\n",
       "    </tr>\n",
       "    <tr>\n",
       "      <th>test</th>\n",
       "      <td>564</td>\n",
       "      <td>80</td>\n",
       "      <td>80</td>\n",
       "      <td>431</td>\n",
       "      <td>400</td>\n",
       "      <td>165</td>\n",
       "      <td>222</td>\n",
       "      <td>541</td>\n",
       "      <td>428</td>\n",
       "      <td>524</td>\n",
       "      <td>...</td>\n",
       "      <td>11</td>\n",
       "      <td>109</td>\n",
       "      <td>133</td>\n",
       "      <td>39</td>\n",
       "      <td>68</td>\n",
       "      <td>76</td>\n",
       "      <td>140</td>\n",
       "      <td>83</td>\n",
       "      <td>30</td>\n",
       "      <td>46</td>\n",
       "    </tr>\n",
       "  </tbody>\n",
       "</table>\n",
       "<p>2 rows × 97 columns</p>\n",
       "</div>"
      ],
      "text/plain": [
       "      (18,)  (66,)  (78,)  (19,)  (15,)  (57,)  (21,)  (34,)  (27,)  (1,)  \\\n",
       "val     548     80     78    397    390    161    208    524    402   525   \n",
       "test    564     80     80    431    400    165    222    541    428   524   \n",
       "\n",
       "      ...  (88,)  (32,)  (53,)  (52,)  (39,)  (60,)  (54,)  (55,)  (86,)  \\\n",
       "val   ...     11     99    133     39     64     91    139     84     29   \n",
       "test  ...     11    109    133     39     68     76    140     83     30   \n",
       "\n",
       "      (83,)  \n",
       "val      46  \n",
       "test     46  \n",
       "\n",
       "[2 rows x 97 columns]"
      ]
     },
     "execution_count": 26,
     "metadata": {},
     "output_type": "execute_result"
    }
   ],
   "source": [
    "pd.DataFrame({\n",
    "    'val': Counter(str(combination) for row in get_combination_wise_output_matrix(y_val, order=1) for combination in row),\n",
    "    'test' : Counter(str(combination) for row in get_combination_wise_output_matrix(y_test, order=1) for combination in row)\n",
    "}).T.fillna(0.0)"
   ]
  },
  {
   "cell_type": "markdown",
   "id": "dcab3a4a",
   "metadata": {},
   "source": [
    "## Statistics for each set"
   ]
  },
  {
   "cell_type": "code",
   "execution_count": 27,
   "id": "72aefd6c",
   "metadata": {},
   "outputs": [],
   "source": [
    "import matplotlib.pyplot as plt"
   ]
  },
  {
   "cell_type": "code",
   "execution_count": 28,
   "id": "f52c6156",
   "metadata": {},
   "outputs": [],
   "source": [
    "grouped_by_table_dict = grouped_by_table.to_dict('records')"
   ]
  },
  {
   "cell_type": "code",
   "execution_count": 29,
   "id": "ef09d877",
   "metadata": {},
   "outputs": [],
   "source": [
    "#Dictionary with table names as key and relation labels as values\n",
    "file_to_label = {}\n",
    "for row in grouped_by_table_dict:\n",
    "    file_to_label[row['file_name']] = row['type_label']"
   ]
  },
  {
   "cell_type": "markdown",
   "id": "a113c0b6",
   "metadata": {},
   "source": [
    "### Training set"
   ]
  },
  {
   "cell_type": "code",
   "execution_count": 30,
   "id": "b6319619",
   "metadata": {},
   "outputs": [
    {
     "name": "stdout",
     "output_type": "stream",
     "text": [
      "Number of unique relation labels in training set: 97\n"
     ]
    }
   ],
   "source": [
    "#Count how many columns per label\n",
    "label_and_number_train = {}\n",
    "for row in X_train:\n",
    "    \n",
    "    for label in file_to_label[row[0]].split(','):\n",
    "        if label in label_and_number_train:\n",
    "            label_and_number_train[label] += 1\n",
    "        else:\n",
    "            label_and_number_train[label] = 1\n",
    "print('Number of unique relation labels in training set: '+ str(len(label_and_number_train)))"
   ]
  },
  {
   "cell_type": "code",
   "execution_count": 31,
   "id": "009ab4ba",
   "metadata": {},
   "outputs": [
    {
     "data": {
      "text/plain": [
       "dict_values([620, 15704, 823, 3327, 2248, 3476, 4009, 639, 3928, 4456, 4194, 5554, 2181, 5543, 2676, 410, 546, 516, 102, 73, 283, 254, 346, 327, 42, 84, 3563, 1430, 2169, 813, 2024, 1708, 2011, 233, 683, 4167, 2278, 1234, 3230, 2172, 745, 2685, 2015, 1763, 1094, 2354, 334, 940, 373, 333, 82, 706, 534, 583, 465, 714, 415, 54, 258, 288, 848, 53, 145, 1025, 2220, 143, 689, 386, 1921, 415, 86, 1946, 1186, 1217, 130, 1041, 127, 318, 620, 210, 1203, 1019, 242, 339, 244, 367, 273, 86, 310, 5920, 630, 485, 515, 1116, 913, 369, 241])"
      ]
     },
     "execution_count": 31,
     "metadata": {},
     "output_type": "execute_result"
    }
   ],
   "source": [
    "label_and_number_train.values()"
   ]
  },
  {
   "cell_type": "code",
   "execution_count": 32,
   "id": "1c7fb4fc",
   "metadata": {},
   "outputs": [
    {
     "name": "stdout",
     "output_type": "stream",
     "text": [
      "Minimum column count per label is: 42\n",
      "Maximum column count per label is: 15704\n",
      "Total column count is: 135809\n"
     ]
    }
   ],
   "source": [
    "print('Minimum column count per label is: '+str(min(label_and_number_train.values())) )\n",
    "print('Maximum column count per label is: '+str(max(label_and_number_train.values())) )\n",
    "print('Total column count is: '+str(sum(label_and_number_train.values())) )"
   ]
  },
  {
   "cell_type": "code",
   "execution_count": 33,
   "id": "96e9ce67",
   "metadata": {},
   "outputs": [
    {
     "data": {
      "text/plain": [
       "Text(0.5, 0, 'Number of columns')"
      ]
     },
     "execution_count": 33,
     "metadata": {},
     "output_type": "execute_result"
    },
    {
     "data": {
      "image/png": "[encoded data removed]",
      "text/plain": [
       "<Figure size 1080x360 with 1 Axes>"
      ]
     },
     "metadata": {
      "needs_background": "light"
     },
     "output_type": "display_data"
    }
   ],
   "source": [
    "plt.figure(figsize=(15,5))\n",
    "plt.hist(label_and_number_train.values(), bins=10)\n",
    "plt.ylabel('Label Count')\n",
    "plt.xlabel('Number of columns')"
   ]
  },
  {
   "cell_type": "markdown",
   "id": "749a7725",
   "metadata": {},
   "source": [
    "### Validation set"
   ]
  },
  {
   "cell_type": "code",
   "execution_count": 34,
   "id": "dfeb1675",
   "metadata": {},
   "outputs": [
    {
     "name": "stdout",
     "output_type": "stream",
     "text": [
      "Number of unique relation labels in validation set: 97\n"
     ]
    }
   ],
   "source": [
    "#Count how many columns per label\n",
    "label_and_number_val = {}\n",
    "for row in X_val:\n",
    "    \n",
    "    for label in file_to_label[row[0]].split(','):\n",
    "        if label in label_and_number_val:\n",
    "            label_and_number_val[label] += 1\n",
    "        else:\n",
    "            label_and_number_val[label] = 1\n",
    "print('Number of unique relation labels in validation set: '+ str(len(label_and_number_val)))"
   ]
  },
  {
   "cell_type": "code",
   "execution_count": 35,
   "id": "ac4b7ec7",
   "metadata": {},
   "outputs": [
    {
     "data": {
      "text/plain": [
       "dict_values([582, 80, 78, 728, 531, 161, 227, 420, 539, 560, 57, 273, 525, 365, 51, 2119, 716, 66, 44, 13, 9, 32, 37, 128, 28, 5, 178, 446, 314, 256, 214, 139, 250, 29, 85, 701, 288, 403, 169, 137, 42, 375, 274, 237, 295, 117, 221, 15, 42, 46, 73, 137, 52, 98, 7, 64, 73, 58, 37, 47, 116, 6, 18, 74, 18, 118, 277, 84, 240, 11, 62, 243, 96, 16, 16, 154, 130, 59, 31, 31, 149, 43, 26, 40, 183, 34, 16, 11, 99, 794, 39, 64, 91, 139, 114, 46, 29])"
      ]
     },
     "execution_count": 35,
     "metadata": {},
     "output_type": "execute_result"
    }
   ],
   "source": [
    "label_and_number_val.values()"
   ]
  },
  {
   "cell_type": "code",
   "execution_count": 36,
   "id": "be717978",
   "metadata": {},
   "outputs": [
    {
     "name": "stdout",
     "output_type": "stream",
     "text": [
      "Minimum column count per label is: 5\n",
      "Maximum column count per label is: 2119\n",
      "Total column count is: 18010\n"
     ]
    }
   ],
   "source": [
    "print('Minimum column count per label is: '+str(min(label_and_number_val.values())) )\n",
    "print('Maximum column count per label is: '+str(max(label_and_number_val.values())) )\n",
    "print('Total column count is: '+str(sum(label_and_number_val.values())) )"
   ]
  },
  {
   "cell_type": "code",
   "execution_count": 37,
   "id": "f0775b70",
   "metadata": {},
   "outputs": [
    {
     "data": {
      "text/plain": [
       "Text(0.5, 0, 'Number of columns')"
      ]
     },
     "execution_count": 37,
     "metadata": {},
     "output_type": "execute_result"
    },
    {
     "data": {
      "image/png": "[encoded data removed]",
      "text/plain": [
       "<Figure size 1080x360 with 1 Axes>"
      ]
     },
     "metadata": {
      "needs_background": "light"
     },
     "output_type": "display_data"
    }
   ],
   "source": [
    "plt.figure(figsize=(15,5))\n",
    "plt.hist(label_and_number_val.values(), bins=10)\n",
    "plt.ylabel('Label Count')\n",
    "plt.xlabel('Number of columns')"
   ]
  },
  {
   "cell_type": "markdown",
   "id": "37ad560b",
   "metadata": {},
   "source": [
    "### Testing set"
   ]
  },
  {
   "cell_type": "code",
   "execution_count": 38,
   "id": "81cfea07",
   "metadata": {},
   "outputs": [
    {
     "name": "stdout",
     "output_type": "stream",
     "text": [
      "Number of unique relation labels in testing set: 97\n"
     ]
    }
   ],
   "source": [
    "#Count how many columns per label\n",
    "label_and_number_test = {}\n",
    "for row in X_test:\n",
    "    \n",
    "    for label in file_to_label[row[0]].split(','):\n",
    "        if label in label_and_number_test:\n",
    "            label_and_number_test[label] += 1\n",
    "        else:\n",
    "            label_and_number_test[label] = 1\n",
    "print('Number of unique relation labels in testing set: '+ str(len(label_and_number_test)))"
   ]
  },
  {
   "cell_type": "code",
   "execution_count": 39,
   "id": "0e8a4f95",
   "metadata": {},
   "outputs": [
    {
     "data": {
      "text/plain": [
       "dict_values([2216, 445, 774, 165, 80, 560, 596, 51, 80, 536, 273, 363, 272, 58, 556, 524, 13, 747, 9, 63, 37, 144, 29, 5, 179, 325, 444, 43, 213, 256, 251, 29, 131, 86, 280, 404, 282, 659, 168, 155, 118, 220, 233, 18, 294, 343, 47, 41, 32, 41, 89, 136, 68, 52, 73, 58, 85, 33, 9, 49, 7, 109, 18, 73, 278, 18, 111, 83, 240, 10, 55, 244, 104, 16, 16, 130, 158, 58, 26, 155, 30, 34, 42, 30, 11, 35, 192, 9, 68, 724, 39, 109, 76, 140, 115, 46, 30])"
      ]
     },
     "execution_count": 39,
     "metadata": {},
     "output_type": "execute_result"
    }
   ],
   "source": [
    "label_and_number_test.values()"
   ]
  },
  {
   "cell_type": "code",
   "execution_count": 40,
   "id": "b8d1dce7",
   "metadata": {},
   "outputs": [
    {
     "name": "stdout",
     "output_type": "stream",
     "text": [
      "Minimum column count per label is: 5\n",
      "Maximum column count per label is: 2216\n",
      "Total column count is: 18179\n"
     ]
    }
   ],
   "source": [
    "print('Minimum column count per label is: '+str(min(label_and_number_test.values())) )\n",
    "print('Maximum column count per label is: '+str(max(label_and_number_test.values())) )\n",
    "print('Total column count is: '+str(sum(label_and_number_test.values())) )"
   ]
  },
  {
   "cell_type": "code",
   "execution_count": 41,
   "id": "cb931181",
   "metadata": {},
   "outputs": [
    {
     "data": {
      "text/plain": [
       "Text(0.5, 0, 'Number of columns')"
      ]
     },
     "execution_count": 41,
     "metadata": {},
     "output_type": "execute_result"
    },
    {
     "data": {
      "image/png": "[encoded data removed]",
      "text/plain": [
       "<Figure size 1080x360 with 1 Axes>"
      ]
     },
     "metadata": {
      "needs_background": "light"
     },
     "output_type": "display_data"
    }
   ],
   "source": [
    "plt.figure(figsize=(15,5))\n",
    "plt.hist(label_and_number_test.values(), bins=10)\n",
    "plt.ylabel('Label Count')\n",
    "plt.xlabel('Number of columns')"
   ]
  },
  {
   "cell_type": "markdown",
   "id": "b01f38db",
   "metadata": {},
   "source": [
    "## Prepare csv file for each set"
   ]
  },
  {
   "cell_type": "code",
   "execution_count": 42,
   "id": "4866b169",
   "metadata": {},
   "outputs": [],
   "source": [
    "training_tables = [ table[0] for table in X_train ]\n",
    "validation_tables = [ table[0] for table in X_val ]\n",
    "testing_tables = [ table[0] for table in X_test ]"
   ]
  },
  {
   "cell_type": "code",
   "execution_count": 43,
   "id": "0a107fc2",
   "metadata": {},
   "outputs": [
    {
     "data": {
      "text/html": [
       "<div>\n",
       "<style scoped>\n",
       "    .dataframe tbody tr th:only-of-type {\n",
       "        vertical-align: middle;\n",
       "    }\n",
       "\n",
       "    .dataframe tbody tr th {\n",
       "        vertical-align: top;\n",
       "    }\n",
       "\n",
       "    .dataframe thead th {\n",
       "        text-align: right;\n",
       "    }\n",
       "</style>\n",
       "<table border=\"1\" class=\"dataframe\">\n",
       "  <thead>\n",
       "    <tr style=\"text-align: right;\">\n",
       "      <th></th>\n",
       "      <th>class</th>\n",
       "      <th>column_name</th>\n",
       "      <th>file_name</th>\n",
       "      <th>relation_label</th>\n",
       "      <th>type_label</th>\n",
       "      <th>density</th>\n",
       "      <th>selection_type</th>\n",
       "      <th>values</th>\n",
       "    </tr>\n",
       "  </thead>\n",
       "  <tbody>\n",
       "    <tr>\n",
       "      <th>0</th>\n",
       "      <td>Product</td>\n",
       "      <td>offers:pricecurrency</td>\n",
       "      <td>Product_corememoriesco.com_September2020.json.gz</td>\n",
       "      <td>priceCurrency</td>\n",
       "      <td>currency</td>\n",
       "      <td>100</td>\n",
       "      <td>Inter Similarity</td>\n",
       "      <td>[USD, USD, USD, USD, USD, USD, USD, USD, USD, ...</td>\n",
       "    </tr>\n",
       "    <tr>\n",
       "      <th>1</th>\n",
       "      <td>Product</td>\n",
       "      <td>offers:price</td>\n",
       "      <td>Product_corememoriesco.com_September2020.json.gz</td>\n",
       "      <td>price</td>\n",
       "      <td>price</td>\n",
       "      <td>100</td>\n",
       "      <td>Value Heterogeneity</td>\n",
       "      <td>[7.25, 24.95, 26.95, 24.95, 39.95, 24.95, 26.9...</td>\n",
       "    </tr>\n",
       "    <tr>\n",
       "      <th>2</th>\n",
       "      <td>Event</td>\n",
       "      <td>startdate</td>\n",
       "      <td>Event_davidlohmueller.com_September2020.json.gz</td>\n",
       "      <td>startDate</td>\n",
       "      <td>DateTime</td>\n",
       "      <td>100</td>\n",
       "      <td>Inter Similarity</td>\n",
       "      <td>[2021-05-04T19:00:00+01:00, 2021-03-07T17:30:0...</td>\n",
       "    </tr>\n",
       "    <tr>\n",
       "      <th>3</th>\n",
       "      <td>Event</td>\n",
       "      <td>enddate</td>\n",
       "      <td>Event_davidlohmueller.com_September2020.json.gz</td>\n",
       "      <td>endDate</td>\n",
       "      <td>DateTime</td>\n",
       "      <td>100</td>\n",
       "      <td>Inter Similarity</td>\n",
       "      <td>[2021-05-04T21:30:00+01:00, 2021-03-07T19:00:0...</td>\n",
       "    </tr>\n",
       "    <tr>\n",
       "      <th>4</th>\n",
       "      <td>Product</td>\n",
       "      <td>offers:pricecurrency</td>\n",
       "      <td>Product_winehousegvl.com_September2020.json.gz</td>\n",
       "      <td>priceCurrency</td>\n",
       "      <td>currency</td>\n",
       "      <td>100</td>\n",
       "      <td>Inter Similarity</td>\n",
       "      <td>[USD, USD, USD, USD, USD, USD, USD, USD, USD, ...</td>\n",
       "    </tr>\n",
       "    <tr>\n",
       "      <th>...</th>\n",
       "      <td>...</td>\n",
       "      <td>...</td>\n",
       "      <td>...</td>\n",
       "      <td>...</td>\n",
       "      <td>...</td>\n",
       "      <td>...</td>\n",
       "      <td>...</td>\n",
       "      <td>...</td>\n",
       "    </tr>\n",
       "    <tr>\n",
       "      <th>171991</th>\n",
       "      <td>CreativeWork</td>\n",
       "      <td>datecreated</td>\n",
       "      <td>CreativeWork_ywbc.org.uk_September2020.json.gz</td>\n",
       "      <td>dateCreated</td>\n",
       "      <td>DateTime</td>\n",
       "      <td>100</td>\n",
       "      <td>Inter Similarity</td>\n",
       "      <td>[2019-12-22T12:55:44+00:00, 2020-01-05T21:10:2...</td>\n",
       "    </tr>\n",
       "    <tr>\n",
       "      <th>171992</th>\n",
       "      <td>CreativeWork</td>\n",
       "      <td>name</td>\n",
       "      <td>CreativeWork_ywbc.org.uk_September2020.json.gz</td>\n",
       "      <td>name</td>\n",
       "      <td>CreativeWork/name</td>\n",
       "      <td>100</td>\n",
       "      <td>Random</td>\n",
       "      <td>[Advent week four - Peace, Eight Demons and a ...</td>\n",
       "    </tr>\n",
       "    <tr>\n",
       "      <th>171993</th>\n",
       "      <td>CreativeWork</td>\n",
       "      <td>author:name</td>\n",
       "      <td>CreativeWork_ywbc.org.uk_September2020.json.gz</td>\n",
       "      <td>author</td>\n",
       "      <td>Person</td>\n",
       "      <td>100</td>\n",
       "      <td>Random</td>\n",
       "      <td>[Rev Richard Alford, Phil Jackman, Phil Jackma...</td>\n",
       "    </tr>\n",
       "    <tr>\n",
       "      <th>171996</th>\n",
       "      <td>SportsEvent</td>\n",
       "      <td>name</td>\n",
       "      <td>SportsEvent_blastertagassociation.com_Septembe...</td>\n",
       "      <td>name</td>\n",
       "      <td>SportsEvent/name</td>\n",
       "      <td>100</td>\n",
       "      <td>Random 2</td>\n",
       "      <td>[Fluffy Rainbow Unicorn Soldiers vs. Doomsday ...</td>\n",
       "    </tr>\n",
       "    <tr>\n",
       "      <th>171997</th>\n",
       "      <td>SportsEvent</td>\n",
       "      <td>competitor:name</td>\n",
       "      <td>SportsEvent_blastertagassociation.com_Septembe...</td>\n",
       "      <td>competitor</td>\n",
       "      <td>SportsTeam</td>\n",
       "      <td>100</td>\n",
       "      <td>Random 2</td>\n",
       "      <td>[[Fluffy Rainbow Unicorn Soldiers, Doomsday], ...</td>\n",
       "    </tr>\n",
       "  </tbody>\n",
       "</table>\n",
       "<p>135809 rows × 8 columns</p>\n",
       "</div>"
      ],
      "text/plain": [
       "               class           column_name  \\\n",
       "0            Product  offers:pricecurrency   \n",
       "1            Product          offers:price   \n",
       "2              Event             startdate   \n",
       "3              Event               enddate   \n",
       "4            Product  offers:pricecurrency   \n",
       "...              ...                   ...   \n",
       "171991  CreativeWork           datecreated   \n",
       "171992  CreativeWork                  name   \n",
       "171993  CreativeWork           author:name   \n",
       "171996   SportsEvent                  name   \n",
       "171997   SportsEvent       competitor:name   \n",
       "\n",
       "                                                file_name relation_label  \\\n",
       "0        Product_corememoriesco.com_September2020.json.gz  priceCurrency   \n",
       "1        Product_corememoriesco.com_September2020.json.gz          price   \n",
       "2         Event_davidlohmueller.com_September2020.json.gz      startDate   \n",
       "3         Event_davidlohmueller.com_September2020.json.gz        endDate   \n",
       "4          Product_winehousegvl.com_September2020.json.gz  priceCurrency   \n",
       "...                                                   ...            ...   \n",
       "171991     CreativeWork_ywbc.org.uk_September2020.json.gz    dateCreated   \n",
       "171992     CreativeWork_ywbc.org.uk_September2020.json.gz           name   \n",
       "171993     CreativeWork_ywbc.org.uk_September2020.json.gz         author   \n",
       "171996  SportsEvent_blastertagassociation.com_Septembe...           name   \n",
       "171997  SportsEvent_blastertagassociation.com_Septembe...     competitor   \n",
       "\n",
       "               type_label  density       selection_type  \\\n",
       "0                currency      100     Inter Similarity   \n",
       "1                   price      100  Value Heterogeneity   \n",
       "2                DateTime      100     Inter Similarity   \n",
       "3                DateTime      100     Inter Similarity   \n",
       "4                currency      100     Inter Similarity   \n",
       "...                   ...      ...                  ...   \n",
       "171991           DateTime      100     Inter Similarity   \n",
       "171992  CreativeWork/name      100               Random   \n",
       "171993             Person      100               Random   \n",
       "171996   SportsEvent/name      100             Random 2   \n",
       "171997         SportsTeam      100             Random 2   \n",
       "\n",
       "                                                   values  \n",
       "0       [USD, USD, USD, USD, USD, USD, USD, USD, USD, ...  \n",
       "1       [7.25, 24.95, 26.95, 24.95, 39.95, 24.95, 26.9...  \n",
       "2       [2021-05-04T19:00:00+01:00, 2021-03-07T17:30:0...  \n",
       "3       [2021-05-04T21:30:00+01:00, 2021-03-07T19:00:0...  \n",
       "4       [USD, USD, USD, USD, USD, USD, USD, USD, USD, ...  \n",
       "...                                                   ...  \n",
       "171991  [2019-12-22T12:55:44+00:00, 2020-01-05T21:10:2...  \n",
       "171992  [Advent week four - Peace, Eight Demons and a ...  \n",
       "171993  [Rev Richard Alford, Phil Jackman, Phil Jackma...  \n",
       "171996  [Fluffy Rainbow Unicorn Soldiers vs. Doomsday ...  \n",
       "171997  [[Fluffy Rainbow Unicorn Soldiers, Doomsday], ...  \n",
       "\n",
       "[135809 rows x 8 columns]"
      ]
     },
     "execution_count": 43,
     "metadata": {},
     "output_type": "execute_result"
    }
   ],
   "source": [
    "training_set = dataset.loc[dataset['file_name'].isin(training_tables)]\n",
    "training_set"
   ]
  },
  {
   "cell_type": "code",
   "execution_count": 47,
   "id": "6b093aa8",
   "metadata": {},
   "outputs": [
    {
     "data": {
      "text/html": [
       "<div>\n",
       "<style scoped>\n",
       "    .dataframe tbody tr th:only-of-type {\n",
       "        vertical-align: middle;\n",
       "    }\n",
       "\n",
       "    .dataframe tbody tr th {\n",
       "        vertical-align: top;\n",
       "    }\n",
       "\n",
       "    .dataframe thead th {\n",
       "        text-align: right;\n",
       "    }\n",
       "</style>\n",
       "<table border=\"1\" class=\"dataframe\">\n",
       "  <thead>\n",
       "    <tr style=\"text-align: right;\">\n",
       "      <th></th>\n",
       "      <th>class</th>\n",
       "      <th>column_name</th>\n",
       "      <th>file_name</th>\n",
       "      <th>relation_label</th>\n",
       "      <th>type_label</th>\n",
       "      <th>density</th>\n",
       "      <th>selection_type</th>\n",
       "      <th>values</th>\n",
       "    </tr>\n",
       "  </thead>\n",
       "  <tbody>\n",
       "    <tr>\n",
       "      <th>17</th>\n",
       "      <td>Product</td>\n",
       "      <td>offers:price</td>\n",
       "      <td>Product_ablissfullybeautifulboutique.com_Septe...</td>\n",
       "      <td>price</td>\n",
       "      <td>price</td>\n",
       "      <td>100</td>\n",
       "      <td>Inter Similarity</td>\n",
       "      <td>[80.0, 21.79, 21.79, 36.0, 36.0, 36.0, 32.0, 1...</td>\n",
       "    </tr>\n",
       "    <tr>\n",
       "      <th>18</th>\n",
       "      <td>Product</td>\n",
       "      <td>offers:pricecurrency</td>\n",
       "      <td>Product_ablissfullybeautifulboutique.com_Septe...</td>\n",
       "      <td>priceCurrency</td>\n",
       "      <td>currency</td>\n",
       "      <td>100</td>\n",
       "      <td>Inter Similarity</td>\n",
       "      <td>[USD, USD, USD, USD, USD, USD, USD, USD, USD, ...</td>\n",
       "    </tr>\n",
       "    <tr>\n",
       "      <th>85</th>\n",
       "      <td>Product</td>\n",
       "      <td>description</td>\n",
       "      <td>Product_holla.pl_September2020.json.gz</td>\n",
       "      <td>description</td>\n",
       "      <td>Text</td>\n",
       "      <td>100</td>\n",
       "      <td>Intra similarity</td>\n",
       "      <td>[ZEGAREK SMART WATCH DZ-09 SIM 3 KOLORY, PLECA...</td>\n",
       "    </tr>\n",
       "    <tr>\n",
       "      <th>86</th>\n",
       "      <td>Product</td>\n",
       "      <td>name</td>\n",
       "      <td>Product_holla.pl_September2020.json.gz</td>\n",
       "      <td>name</td>\n",
       "      <td>Product/name</td>\n",
       "      <td>100</td>\n",
       "      <td>Intra similarity</td>\n",
       "      <td>[ZEGAREK SMART WATCH DZ-09, PLECAK REAL MADRYT...</td>\n",
       "    </tr>\n",
       "    <tr>\n",
       "      <th>87</th>\n",
       "      <td>Product</td>\n",
       "      <td>offers:price</td>\n",
       "      <td>Product_holla.pl_September2020.json.gz</td>\n",
       "      <td>price</td>\n",
       "      <td>price</td>\n",
       "      <td>100</td>\n",
       "      <td>Inter Similarity</td>\n",
       "      <td>[40.01, 149.99, 24.79, 73.89, 14.8, 164.99, 89...</td>\n",
       "    </tr>\n",
       "    <tr>\n",
       "      <th>...</th>\n",
       "      <td>...</td>\n",
       "      <td>...</td>\n",
       "      <td>...</td>\n",
       "      <td>...</td>\n",
       "      <td>...</td>\n",
       "      <td>...</td>\n",
       "      <td>...</td>\n",
       "      <td>...</td>\n",
       "    </tr>\n",
       "    <tr>\n",
       "      <th>171937</th>\n",
       "      <td>Recipe</td>\n",
       "      <td>cooktime</td>\n",
       "      <td>Recipe_forkintheroad.co_September2020.json.gz</td>\n",
       "      <td>cookTime</td>\n",
       "      <td>Duration</td>\n",
       "      <td>100</td>\n",
       "      <td>Random 3</td>\n",
       "      <td>[PT15M, PT0S, PT15M, PT25M, PT0S, PT10M, PT45M...</td>\n",
       "    </tr>\n",
       "    <tr>\n",
       "      <th>171938</th>\n",
       "      <td>Recipe</td>\n",
       "      <td>suitablefordiet</td>\n",
       "      <td>Recipe_forkintheroad.co_September2020.json.gz</td>\n",
       "      <td>suitableForDiet</td>\n",
       "      <td>RestrictedDiet</td>\n",
       "      <td>92</td>\n",
       "      <td>Random 3</td>\n",
       "      <td>[VeganDiet, VeganDiet, VeganDiet, VegetarianDi...</td>\n",
       "    </tr>\n",
       "    <tr>\n",
       "      <th>171939</th>\n",
       "      <td>Recipe</td>\n",
       "      <td>aggregaterating:reviewcount</td>\n",
       "      <td>Recipe_forkintheroad.co_September2020.json.gz</td>\n",
       "      <td>reviewCount</td>\n",
       "      <td>Integer</td>\n",
       "      <td>95</td>\n",
       "      <td>Random 3</td>\n",
       "      <td>[1.0, 1.0, 1.0, 2.0, 1.0, nan, nan, 4.0, 1.0, ...</td>\n",
       "    </tr>\n",
       "    <tr>\n",
       "      <th>171940</th>\n",
       "      <td>Recipe</td>\n",
       "      <td>author:name</td>\n",
       "      <td>Recipe_forkintheroad.co_September2020.json.gz</td>\n",
       "      <td>author</td>\n",
       "      <td>Person</td>\n",
       "      <td>100</td>\n",
       "      <td>Random 3</td>\n",
       "      <td>[Kristina Todini, RDN, Kristina Todini, RDN, K...</td>\n",
       "    </tr>\n",
       "    <tr>\n",
       "      <th>171981</th>\n",
       "      <td>Product</td>\n",
       "      <td>offers:warranty</td>\n",
       "      <td>Product_dodilny.cz_September2020.json.gz</td>\n",
       "      <td>warranty</td>\n",
       "      <td>WarrantyPromise</td>\n",
       "      <td>100</td>\n",
       "      <td>Random 3</td>\n",
       "      <td>[24 měsíců, 2+1=3, 2 roky, 2 roky, 2 roky, 2 r...</td>\n",
       "    </tr>\n",
       "  </tbody>\n",
       "</table>\n",
       "<p>18010 rows × 8 columns</p>\n",
       "</div>"
      ],
      "text/plain": [
       "          class                  column_name  \\\n",
       "17      Product                 offers:price   \n",
       "18      Product         offers:pricecurrency   \n",
       "85      Product                  description   \n",
       "86      Product                         name   \n",
       "87      Product                 offers:price   \n",
       "...         ...                          ...   \n",
       "171937   Recipe                     cooktime   \n",
       "171938   Recipe              suitablefordiet   \n",
       "171939   Recipe  aggregaterating:reviewcount   \n",
       "171940   Recipe                  author:name   \n",
       "171981  Product              offers:warranty   \n",
       "\n",
       "                                                file_name   relation_label  \\\n",
       "17      Product_ablissfullybeautifulboutique.com_Septe...            price   \n",
       "18      Product_ablissfullybeautifulboutique.com_Septe...    priceCurrency   \n",
       "85                 Product_holla.pl_September2020.json.gz      description   \n",
       "86                 Product_holla.pl_September2020.json.gz             name   \n",
       "87                 Product_holla.pl_September2020.json.gz            price   \n",
       "...                                                   ...              ...   \n",
       "171937      Recipe_forkintheroad.co_September2020.json.gz         cookTime   \n",
       "171938      Recipe_forkintheroad.co_September2020.json.gz  suitableForDiet   \n",
       "171939      Recipe_forkintheroad.co_September2020.json.gz      reviewCount   \n",
       "171940      Recipe_forkintheroad.co_September2020.json.gz           author   \n",
       "171981           Product_dodilny.cz_September2020.json.gz         warranty   \n",
       "\n",
       "             type_label  density    selection_type  \\\n",
       "17                price      100  Inter Similarity   \n",
       "18             currency      100  Inter Similarity   \n",
       "85                 Text      100  Intra similarity   \n",
       "86         Product/name      100  Intra similarity   \n",
       "87                price      100  Inter Similarity   \n",
       "...                 ...      ...               ...   \n",
       "171937         Duration      100          Random 3   \n",
       "171938   RestrictedDiet       92          Random 3   \n",
       "171939          Integer       95          Random 3   \n",
       "171940           Person      100          Random 3   \n",
       "171981  WarrantyPromise      100          Random 3   \n",
       "\n",
       "                                                   values  \n",
       "17      [80.0, 21.79, 21.79, 36.0, 36.0, 36.0, 32.0, 1...  \n",
       "18      [USD, USD, USD, USD, USD, USD, USD, USD, USD, ...  \n",
       "85      [ZEGAREK SMART WATCH DZ-09 SIM 3 KOLORY, PLECA...  \n",
       "86      [ZEGAREK SMART WATCH DZ-09, PLECAK REAL MADRYT...  \n",
       "87      [40.01, 149.99, 24.79, 73.89, 14.8, 164.99, 89...  \n",
       "...                                                   ...  \n",
       "171937  [PT15M, PT0S, PT15M, PT25M, PT0S, PT10M, PT45M...  \n",
       "171938  [VeganDiet, VeganDiet, VeganDiet, VegetarianDi...  \n",
       "171939  [1.0, 1.0, 1.0, 2.0, 1.0, nan, nan, 4.0, 1.0, ...  \n",
       "171940  [Kristina Todini, RDN, Kristina Todini, RDN, K...  \n",
       "171981  [24 měsíců, 2+1=3, 2 roky, 2 roky, 2 roky, 2 r...  \n",
       "\n",
       "[18010 rows x 8 columns]"
      ]
     },
     "execution_count": 47,
     "metadata": {},
     "output_type": "execute_result"
    }
   ],
   "source": [
    "validation_set = dataset.loc[dataset['file_name'].isin(validation_tables)]\n",
    "validation_set"
   ]
  },
  {
   "cell_type": "code",
   "execution_count": 48,
   "id": "bac9bbf2",
   "metadata": {},
   "outputs": [
    {
     "data": {
      "text/html": [
       "<div>\n",
       "<style scoped>\n",
       "    .dataframe tbody tr th:only-of-type {\n",
       "        vertical-align: middle;\n",
       "    }\n",
       "\n",
       "    .dataframe tbody tr th {\n",
       "        vertical-align: top;\n",
       "    }\n",
       "\n",
       "    .dataframe thead th {\n",
       "        text-align: right;\n",
       "    }\n",
       "</style>\n",
       "<table border=\"1\" class=\"dataframe\">\n",
       "  <thead>\n",
       "    <tr style=\"text-align: right;\">\n",
       "      <th></th>\n",
       "      <th>class</th>\n",
       "      <th>column_name</th>\n",
       "      <th>file_name</th>\n",
       "      <th>relation_label</th>\n",
       "      <th>type_label</th>\n",
       "      <th>density</th>\n",
       "      <th>selection_type</th>\n",
       "      <th>values</th>\n",
       "    </tr>\n",
       "  </thead>\n",
       "  <tbody>\n",
       "    <tr>\n",
       "      <th>15</th>\n",
       "      <td>Product</td>\n",
       "      <td>offers:price</td>\n",
       "      <td>Product_andgifts.co.uk_September2020.json.gz</td>\n",
       "      <td>price</td>\n",
       "      <td>price</td>\n",
       "      <td>100</td>\n",
       "      <td>Inter Similarity</td>\n",
       "      <td>[1.29, 2.75, 5.5, 1.25, 2.25, 5.5, 7.99, 2.75,...</td>\n",
       "    </tr>\n",
       "    <tr>\n",
       "      <th>16</th>\n",
       "      <td>Product</td>\n",
       "      <td>offers:pricecurrency</td>\n",
       "      <td>Product_andgifts.co.uk_September2020.json.gz</td>\n",
       "      <td>priceCurrency</td>\n",
       "      <td>currency</td>\n",
       "      <td>100</td>\n",
       "      <td>Inter Similarity</td>\n",
       "      <td>[GBP, GBP, GBP, GBP, GBP, GBP, GBP, GBP, GBP, ...</td>\n",
       "    </tr>\n",
       "    <tr>\n",
       "      <th>28</th>\n",
       "      <td>LocalBusiness</td>\n",
       "      <td>address:addresslocality</td>\n",
       "      <td>LocalBusiness_litmind.com_September2020.json.gz</td>\n",
       "      <td>addressLocality</td>\n",
       "      <td>addressLocality</td>\n",
       "      <td>34</td>\n",
       "      <td>Missing values</td>\n",
       "      <td>[None, Madrid, Madrid, None, None, None, None,...</td>\n",
       "    </tr>\n",
       "    <tr>\n",
       "      <th>29</th>\n",
       "      <td>LocalBusiness</td>\n",
       "      <td>address:addressregion</td>\n",
       "      <td>LocalBusiness_litmind.com_September2020.json.gz</td>\n",
       "      <td>addressRegion</td>\n",
       "      <td>addressRegion</td>\n",
       "      <td>36</td>\n",
       "      <td>Missing values</td>\n",
       "      <td>[None, Madrid, Madrid, None, None, None, None,...</td>\n",
       "    </tr>\n",
       "    <tr>\n",
       "      <th>30</th>\n",
       "      <td>LocalBusiness</td>\n",
       "      <td>address:postalcode</td>\n",
       "      <td>LocalBusiness_litmind.com_September2020.json.gz</td>\n",
       "      <td>postalCode</td>\n",
       "      <td>postalCode</td>\n",
       "      <td>33</td>\n",
       "      <td>Missing values</td>\n",
       "      <td>[nan, 28017.0, 28001.0, nan, nan, nan, nan, na...</td>\n",
       "    </tr>\n",
       "    <tr>\n",
       "      <th>...</th>\n",
       "      <td>...</td>\n",
       "      <td>...</td>\n",
       "      <td>...</td>\n",
       "      <td>...</td>\n",
       "      <td>...</td>\n",
       "      <td>...</td>\n",
       "      <td>...</td>\n",
       "      <td>...</td>\n",
       "    </tr>\n",
       "    <tr>\n",
       "      <th>171959</th>\n",
       "      <td>Museum</td>\n",
       "      <td>name</td>\n",
       "      <td>Museum_bayern.by_September2020.json.gz</td>\n",
       "      <td>name</td>\n",
       "      <td>Museum/name</td>\n",
       "      <td>100</td>\n",
       "      <td>Random 2</td>\n",
       "      <td>[Museum Penzberg – Sammlung Campendonk, Museen...</td>\n",
       "    </tr>\n",
       "    <tr>\n",
       "      <th>171968</th>\n",
       "      <td>SportsEvent</td>\n",
       "      <td>name</td>\n",
       "      <td>SportsEvent_4smenssoccer.com_September2020.jso...</td>\n",
       "      <td>name</td>\n",
       "      <td>SportsEvent/name</td>\n",
       "      <td>100</td>\n",
       "      <td>Random 2</td>\n",
       "      <td>[Dark Side of the maMoon vs La Flama Blanca, B...</td>\n",
       "    </tr>\n",
       "    <tr>\n",
       "      <th>171969</th>\n",
       "      <td>SportsEvent</td>\n",
       "      <td>competitor:name</td>\n",
       "      <td>SportsEvent_4smenssoccer.com_September2020.jso...</td>\n",
       "      <td>competitor</td>\n",
       "      <td>SportsTeam</td>\n",
       "      <td>100</td>\n",
       "      <td>Random 2</td>\n",
       "      <td>[[La Flama Blanca, Dark Side of the maMoon], [...</td>\n",
       "    </tr>\n",
       "    <tr>\n",
       "      <th>171994</th>\n",
       "      <td>Event</td>\n",
       "      <td>location:name</td>\n",
       "      <td>Event_kivasports.net_September2020.json.gz</td>\n",
       "      <td>location</td>\n",
       "      <td>Place</td>\n",
       "      <td>95</td>\n",
       "      <td>Random 3</td>\n",
       "      <td>[KIVA Sports Center, KIVA Sports Center, None,...</td>\n",
       "    </tr>\n",
       "    <tr>\n",
       "      <th>171995</th>\n",
       "      <td>Event</td>\n",
       "      <td>organizer:email</td>\n",
       "      <td>Event_kivasports.net_September2020.json.gz</td>\n",
       "      <td>email</td>\n",
       "      <td>email</td>\n",
       "      <td>72</td>\n",
       "      <td>Random 3</td>\n",
       "      <td>[&amp;#99;ourtne&amp;#121;&amp;#64;k&amp;#105;&amp;#118;as&amp;#112;&amp;#...</td>\n",
       "    </tr>\n",
       "  </tbody>\n",
       "</table>\n",
       "<p>18179 rows × 8 columns</p>\n",
       "</div>"
      ],
      "text/plain": [
       "                class              column_name  \\\n",
       "15            Product             offers:price   \n",
       "16            Product     offers:pricecurrency   \n",
       "28      LocalBusiness  address:addresslocality   \n",
       "29      LocalBusiness    address:addressregion   \n",
       "30      LocalBusiness       address:postalcode   \n",
       "...               ...                      ...   \n",
       "171959         Museum                     name   \n",
       "171968    SportsEvent                     name   \n",
       "171969    SportsEvent          competitor:name   \n",
       "171994          Event            location:name   \n",
       "171995          Event          organizer:email   \n",
       "\n",
       "                                                file_name   relation_label  \\\n",
       "15           Product_andgifts.co.uk_September2020.json.gz            price   \n",
       "16           Product_andgifts.co.uk_September2020.json.gz    priceCurrency   \n",
       "28        LocalBusiness_litmind.com_September2020.json.gz  addressLocality   \n",
       "29        LocalBusiness_litmind.com_September2020.json.gz    addressRegion   \n",
       "30        LocalBusiness_litmind.com_September2020.json.gz       postalCode   \n",
       "...                                                   ...              ...   \n",
       "171959             Museum_bayern.by_September2020.json.gz             name   \n",
       "171968  SportsEvent_4smenssoccer.com_September2020.jso...             name   \n",
       "171969  SportsEvent_4smenssoccer.com_September2020.jso...       competitor   \n",
       "171994         Event_kivasports.net_September2020.json.gz         location   \n",
       "171995         Event_kivasports.net_September2020.json.gz            email   \n",
       "\n",
       "              type_label  density    selection_type  \\\n",
       "15                 price      100  Inter Similarity   \n",
       "16              currency      100  Inter Similarity   \n",
       "28       addressLocality       34    Missing values   \n",
       "29         addressRegion       36    Missing values   \n",
       "30            postalCode       33    Missing values   \n",
       "...                  ...      ...               ...   \n",
       "171959       Museum/name      100          Random 2   \n",
       "171968  SportsEvent/name      100          Random 2   \n",
       "171969        SportsTeam      100          Random 2   \n",
       "171994             Place       95          Random 3   \n",
       "171995             email       72          Random 3   \n",
       "\n",
       "                                                   values  \n",
       "15      [1.29, 2.75, 5.5, 1.25, 2.25, 5.5, 7.99, 2.75,...  \n",
       "16      [GBP, GBP, GBP, GBP, GBP, GBP, GBP, GBP, GBP, ...  \n",
       "28      [None, Madrid, Madrid, None, None, None, None,...  \n",
       "29      [None, Madrid, Madrid, None, None, None, None,...  \n",
       "30      [nan, 28017.0, 28001.0, nan, nan, nan, nan, na...  \n",
       "...                                                   ...  \n",
       "171959  [Museum Penzberg – Sammlung Campendonk, Museen...  \n",
       "171968  [Dark Side of the maMoon vs La Flama Blanca, B...  \n",
       "171969  [[La Flama Blanca, Dark Side of the maMoon], [...  \n",
       "171994  [KIVA Sports Center, KIVA Sports Center, None,...  \n",
       "171995  [&#99;ourtne&#121;&#64;k&#105;&#118;as&#112;&#...  \n",
       "\n",
       "[18179 rows x 8 columns]"
      ]
     },
     "execution_count": 48,
     "metadata": {},
     "output_type": "execute_result"
    }
   ],
   "source": [
    "testing_set = dataset.loc[dataset['file_name'].isin(testing_tables)]\n",
    "testing_set"
   ]
  },
  {
   "cell_type": "code",
   "execution_count": null,
   "id": "4c201f83",
   "metadata": {},
   "outputs": [],
   "source": [
    "#Manual corrections:\n",
    "#Remove some types that do not have at least 10 examples in test set\n",
    "#Remove tables with less than 10% density\n",
    "\n",
    "training_set = training_set.loc[~training_set['type_label'].isin(['Map', 'PublicationEvent', 'VideoObject', 'AggregateRating'])]\n",
    "training_set = training_set.loc[training_set['density'] >= 10 ]\n",
    "\n",
    "validation_set = validation_set.loc[~validation_set['type_label'].isin(['Map', 'PublicationEvent', 'VideoObject', 'AggregateRating'])]\n",
    "validation_set = validation_set.loc[validation_set['density'] >= 10 ]\n",
    "\n",
    "testing_set = testing_set.loc[~testing_set['type_label'].isin(['Map', 'PublicationEvent', 'VideoObject', 'AggregateRating'])]\n",
    "testing_set = testing_set.loc[testing_set['density'] >= 10 ]"
   ]
  },
  {
   "cell_type": "code",
   "execution_count": null,
   "id": "37b43e32",
   "metadata": {},
   "outputs": [],
   "source": [
    "#Write all CTA labels in a file\n",
    "with open('output-data/type_vocab.txt', 'a') as file:\n",
    "    i = 0\n",
    "    for label in testing_set['type_label'].unique():\n",
    "        file.write(str(i)+ '\\t' + label +'\\n')\n",
    "        i += 1"
   ]
  },
  {
   "cell_type": "markdown",
   "id": "baad30ed",
   "metadata": {},
   "source": [
    "### Create small subset of training set"
   ]
  },
  {
   "cell_type": "code",
   "execution_count": null,
   "id": "55e5e77d",
   "metadata": {},
   "outputs": [],
   "source": [
    "grouped_by_table = training_set.groupby(['file_name'])['type_label'].apply(','.join).reset_index()\n",
    "grouped_by_table"
   ]
  },
  {
   "cell_type": "code",
   "execution_count": null,
   "id": "b6de3a05",
   "metadata": {},
   "outputs": [],
   "source": [
    "X_train = grouped_by_table[[\"file_name\"]].values"
   ]
  },
  {
   "cell_type": "code",
   "execution_count": null,
   "id": "a29a5880",
   "metadata": {},
   "outputs": [],
   "source": [
    "types_file = open(\"output-data/type_vocab.txt\", 'r')\n",
    "all_labels = [line.replace('\\n', '').split('\\t')[1] for line in types_file.readlines()]"
   ]
  },
  {
   "cell_type": "code",
   "execution_count": null,
   "id": "c50db0ac",
   "metadata": {},
   "outputs": [],
   "source": [
    "y = np.zeros(shape=(32409, 93)) #encoded labels"
   ]
  },
  {
   "cell_type": "code",
   "execution_count": null,
   "id": "87426cc6",
   "metadata": {},
   "outputs": [],
   "source": [
    "for index, row in grouped_by_table.iterrows():\n",
    "    table_labels = row['type_label'].split(',')\n",
    "    count = 0\n",
    "    \n",
    "    for label in all_labels:\n",
    "        if label in table_labels:\n",
    "            y[index][count] = 1\n",
    "        else:\n",
    "            y[index][count] = 0\n",
    "        count += 1"
   ]
  },
  {
   "cell_type": "code",
   "execution_count": null,
   "id": "b7fae05a",
   "metadata": {},
   "outputs": [],
   "source": [
    "X_rest, y_rest, X_test, y_test = iterative_train_test_split(X_train, y, test_size = 0.25)\n",
    "print('Training set length: '+str(len(X_train)) +', Testing set length: '+ str(len(X_test)))"
   ]
  },
  {
   "cell_type": "code",
   "execution_count": null,
   "id": "9270c7ec",
   "metadata": {},
   "outputs": [],
   "source": [
    "#Relation Labels in each set\n",
    "pd.DataFrame({\n",
    "    'train': Counter(str(combination) for row in get_combination_wise_output_matrix(y_rest, order=1) for combination in row),\n",
    "    'test' : Counter(str(combination) for row in get_combination_wise_output_matrix(y_test, order=1) for combination in row)\n",
    "}).T.fillna(0.0)"
   ]
  },
  {
   "cell_type": "code",
   "execution_count": null,
   "id": "4ba7071c",
   "metadata": {},
   "outputs": [],
   "source": [
    "training_tables_small = [ table[0] for table in X_test ]\n",
    "training_set_small = dataset.loc[dataset['file_name'].isin(training_tables_small)]\n",
    "training_set_small"
   ]
  },
  {
   "cell_type": "markdown",
   "id": "45465b90",
   "metadata": {},
   "source": [
    "### Save splits in files"
   ]
  },
  {
   "cell_type": "code",
   "execution_count": 49,
   "id": "14480c86",
   "metadata": {},
   "outputs": [],
   "source": [
    "training_set.to_csv('output-data/training_set_cta.csv.gz', index=False, compression='gzip')"
   ]
  },
  {
   "cell_type": "code",
   "execution_count": 49,
   "id": "8c2ada1f",
   "metadata": {},
   "outputs": [],
   "source": [
    "training_set_small.to_csv('output-data/training_set_small_cta.csv.gz', index=False, compression='gzip')"
   ]
  },
  {
   "cell_type": "code",
   "execution_count": 50,
   "id": "b6a10368",
   "metadata": {},
   "outputs": [],
   "source": [
    "validation_set.to_csv('output-data/validation_set_cta.csv.gz', index=False, compression='gzip')"
   ]
  },
  {
   "cell_type": "code",
   "execution_count": 51,
   "id": "da796365",
   "metadata": {},
   "outputs": [],
   "source": [
    "testing_set.to_csv('output-data/testing_set_cta.csv.gz', index=False, compression='gzip')"
   ]
  },
  {
   "cell_type": "code",
   "execution_count": null,
   "id": "61c1c348",
   "metadata": {},
   "outputs": [],
   "source": []
  }
 ],
 "metadata": {
  "kernelspec": {
   "display_name": "Python 3 (ipykernel)",
   "language": "python",
   "name": "python3"
  },
  "language_info": {
   "codemirror_mode": {
    "name": "ipython",
    "version": 3
   },
   "file_extension": ".py",
   "mimetype": "text/x-python",
   "name": "python",
   "nbconvert_exporter": "python",
   "pygments_lexer": "ipython3",
   "version": "3.9.5"
  }
 },
 "nbformat": 4,
 "nbformat_minor": 5
}
